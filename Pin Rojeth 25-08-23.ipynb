{
 "cells": [
  {
   "cell_type": "markdown",
   "id": "1646c188",
   "metadata": {},
   "source": [
    "# Q1"
   ]
  },
  {
   "cell_type": "code",
   "execution_count": 2,
   "id": "1a41fe0c",
   "metadata": {},
   "outputs": [
    {
     "name": "stdout",
     "output_type": "stream",
     "text": [
      "Enter Your Choice : 1\n",
      "[10, 10, 10]\n",
      "[10, 10, 10]\n",
      "[10, 10, 10]\n",
      "Enter Your Choice : 2\n",
      "[-8, -6, -4]\n",
      "[-2, 0, 2]\n",
      "[4, 6, 8]\n",
      "Enter Your Choice : 3\n",
      "[30, 24, 18]\n",
      "[84, 69, 54]\n",
      "[138, 114, 90]\n",
      "Enter Your Choice : 4\n",
      "exit...\n"
     ]
    }
   ],
   "source": [
    "matrix1 = [\n",
    "    [1, 2, 3], \n",
    " \t[4, 5, 6],\n",
    "    [7, 8, 9]\n",
    "]\n",
    "\n",
    "matrix2 = [\n",
    "    [9, 8, 7], \n",
    "    [6, 5, 4], \n",
    "    [3, 2, 1]\n",
    "]\n",
    "\n",
    "\n",
    "while True :\n",
    "\n",
    "    user_input = int(input(\"Enter Your Choice : \"))\n",
    "\n",
    "\n",
    "    if user_input == 1 :\n",
    "        for i in range(len(matrix1)) :\n",
    "            line = []\n",
    "            for j in range(len(matrix1[0])) : \n",
    "                r= matrix1[i][j] + matrix2[i][j]\n",
    "                line.append(r)\n",
    "            print(line)\n",
    "    elif user_input == 2 :\n",
    "        for i in range(len(matrix1)) :\n",
    "            line = []\n",
    "            for j in range(len(matrix1[0])) : \n",
    "                r= matrix1[i][j] - matrix2[i][j]\n",
    "                line.append(r)\n",
    "            print(line)\n",
    "    elif user_input == 3 :\n",
    "        for i in range(len(matrix1)) :\n",
    "            line = []\n",
    "            for j in range(len(matrix1[0])) :\n",
    "                res = 0\n",
    "                for k in range(len(matrix1[0])) :\n",
    "                    r = matrix1[i][k] * matrix2[k][j] \n",
    "                    res += r\n",
    "                line.append(res)\n",
    "            print(line)\n",
    "    else :\n",
    "        print(\"exit...\")\n",
    "        break\n",
    "                "
   ]
  },
  {
   "cell_type": "code",
   "execution_count": 1,
   "id": "90478fbc",
   "metadata": {},
   "outputs": [
    {
     "name": "stdout",
     "output_type": "stream",
     "text": [
      "File is not here bruhh\n"
     ]
    },
    {
     "ename": "NameError",
     "evalue": "name 'a' is not defined",
     "output_type": "error",
     "traceback": [
      "\u001b[0;31m---------------------------------------------------------------------------\u001b[0m",
      "\u001b[0;31mNameError\u001b[0m                                 Traceback (most recent call last)",
      "Cell \u001b[0;32mIn[1], line 8\u001b[0m\n\u001b[1;32m      5\u001b[0m     \u001b[38;5;28mprint\u001b[39m(\u001b[38;5;124m\"\u001b[39m\u001b[38;5;124mFile is not here bruhh\u001b[39m\u001b[38;5;124m\"\u001b[39m)\n\u001b[1;32m      7\u001b[0m \u001b[38;5;28;01mwith\u001b[39;00m \u001b[38;5;28mopen\u001b[39m(\u001b[38;5;124m\"\u001b[39m\u001b[38;5;124mcopied.txt\u001b[39m\u001b[38;5;124m\"\u001b[39m, \u001b[38;5;124m'\u001b[39m\u001b[38;5;124mw\u001b[39m\u001b[38;5;124m'\u001b[39m) \u001b[38;5;28;01mas\u001b[39;00m s :\n\u001b[0;32m----> 8\u001b[0m     s\u001b[38;5;241m.\u001b[39mwrite(\u001b[43ma\u001b[49m)\n\u001b[1;32m     10\u001b[0m \u001b[38;5;28;01mwith\u001b[39;00m \u001b[38;5;28mopen\u001b[39m(\u001b[38;5;124m'\u001b[39m\u001b[38;5;124mcopied.txt\u001b[39m\u001b[38;5;124m'\u001b[39m, \u001b[38;5;124m'\u001b[39m\u001b[38;5;124mr\u001b[39m\u001b[38;5;124m'\u001b[39m) \u001b[38;5;28;01mas\u001b[39;00m s :\n\u001b[1;32m     11\u001b[0m     \u001b[38;5;28mprint\u001b[39m(s\u001b[38;5;241m.\u001b[39mread())\n",
      "\u001b[0;31mNameError\u001b[0m: name 'a' is not defined"
     ]
    }
   ],
   "source": [
    "try :\n",
    "    with open(\"source.txt\", 'r') as s :\n",
    "        a = s.read()\n",
    "except :\n",
    "    print(\"File is not here bruhh\")\n",
    "\n",
    "with open(\"copied.txt\", 'w') as s :\n",
    "    s.write(a)\n",
    "\n",
    "with open('copied.txt', 'r') as s :\n",
    "    print(s.read())"
   ]
  },
  {
   "cell_type": "code",
   "execution_count": null,
   "id": "0e832da0",
   "metadata": {},
   "outputs": [],
   "source": []
  },
  {
   "cell_type": "markdown",
   "id": "8dc28054",
   "metadata": {},
   "source": []
  },
  {
   "cell_type": "code",
   "execution_count": null,
   "id": "0e285ee1",
   "metadata": {
    "scrolled": true
   },
   "outputs": [],
   "source": []
  },
  {
   "cell_type": "code",
   "execution_count": null,
   "id": "325f77f5",
   "metadata": {},
   "outputs": [],
   "source": [
    "\n"
   ]
  },
  {
   "cell_type": "markdown",
   "id": "b20dbcbc",
   "metadata": {},
   "source": []
  },
  {
   "cell_type": "code",
   "execution_count": null,
   "id": "62d45aae",
   "metadata": {},
   "outputs": [],
   "source": [
    "\n"
   ]
  },
  {
   "cell_type": "code",
   "execution_count": null,
   "id": "fadd82a2",
   "metadata": {},
   "outputs": [],
   "source": [
    "\n"
   ]
  },
  {
   "cell_type": "markdown",
   "id": "7cb37a1e",
   "metadata": {},
   "source": []
  },
  {
   "cell_type": "code",
   "execution_count": null,
   "id": "b64da180",
   "metadata": {},
   "outputs": [],
   "source": []
  },
  {
   "cell_type": "code",
   "execution_count": null,
   "id": "5aa2c913",
   "metadata": {},
   "outputs": [],
   "source": []
  }
 ],
 "metadata": {
  "kernelspec": {
   "display_name": "Python 3 (ipykernel)",
   "language": "python",
   "name": "python3"
  },
  "language_info": {
   "codemirror_mode": {
    "name": "ipython",
    "version": 3
   },
   "file_extension": ".py",
   "mimetype": "text/x-python",
   "name": "python",
   "nbconvert_exporter": "python",
   "pygments_lexer": "ipython3",
   "version": "3.10.9"
  }
 },
 "nbformat": 4,
 "nbformat_minor": 5
}
