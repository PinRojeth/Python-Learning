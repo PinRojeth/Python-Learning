{
 "cells": [
  {
   "cell_type": "markdown",
   "id": "60e33e57",
   "metadata": {},
   "source": [
    "# 1"
   ]
  },
  {
   "cell_type": "code",
   "execution_count": 1,
   "id": "22591250",
   "metadata": {},
   "outputs": [
    {
     "name": "stdout",
     "output_type": "stream",
     "text": [
      "15\n"
     ]
    }
   ],
   "source": [
    "print(1 + 2 + 3 + 4 + 5)"
   ]
  },
  {
   "cell_type": "markdown",
   "id": "65643c0b",
   "metadata": {},
   "source": [
    "# 2"
   ]
  },
  {
   "cell_type": "code",
   "execution_count": 2,
   "id": "94363923",
   "metadata": {},
   "outputs": [
    {
     "name": "stdout",
     "output_type": "stream",
     "text": [
      "****************************************\n",
      "# # # # # # # # # # # # # # # # # # # # \n"
     ]
    }
   ],
   "source": [
    "print('*' * 40)\n",
    "print('# ' * 20)"
   ]
  },
  {
   "cell_type": "markdown",
   "id": "3fd25a23",
   "metadata": {},
   "source": [
    "# 3"
   ]
  },
  {
   "cell_type": "code",
   "execution_count": 3,
   "id": "47173711",
   "metadata": {},
   "outputs": [
    {
     "name": "stdout",
     "output_type": "stream",
     "text": [
      "Enter Two Integer : 14 10\n",
      "10 14\n"
     ]
    }
   ],
   "source": [
    "num1, num2 = input(\"Enter Two Integer : \").split()\n",
    "num1, num2 = int(num1), int(num2)\n",
    "\n",
    "if num1 < num2 :\n",
    "    print(num1, num2)\n",
    "else :\n",
    "    print(num2, num1)"
   ]
  },
  {
   "cell_type": "markdown",
   "id": "cf0e3e8c",
   "metadata": {},
   "source": [
    "# 4"
   ]
  },
  {
   "cell_type": "code",
   "execution_count": 23,
   "id": "08f9cbdb",
   "metadata": {},
   "outputs": [
    {
     "name": "stdout",
     "output_type": "stream",
     "text": [
      "2 Prime Number\n",
      "3 Prime Number\n",
      "4 Composite Number\n",
      "5 Prime Number\n",
      "6 Composite Number\n",
      "7 Prime Number\n",
      "8 Composite Number\n",
      "9 Composite Number\n",
      "10 Composite Number\n",
      "11 Prime Number\n",
      "12 Composite Number\n"
     ]
    }
   ],
   "source": [
    "for i in range(2, 13) :\n",
    "    n = 0\n",
    "    for j in range (2, 13) :\n",
    "        if i % j == 0 :\n",
    "            n += 1\n",
    "    if n == 1 :\n",
    "        print(i,\"Prime Number\")\n",
    "    else :\n",
    "        n >= 2 \n",
    "        print(i, \"Composite Number\")\n"
   ]
  },
  {
   "cell_type": "markdown",
   "id": "63e65f5d",
   "metadata": {},
   "source": [
    "# 5"
   ]
  },
  {
   "cell_type": "code",
   "execution_count": 34,
   "id": "00383d61",
   "metadata": {},
   "outputs": [
    {
     "name": "stdout",
     "output_type": "stream",
     "text": [
      "153 370 371 407 "
     ]
    }
   ],
   "source": [
    "list_arm = []\n",
    "for i in range (100,1000) :\n",
    "    n1 = i // 100\n",
    "    n2 = (i % 100) // 10\n",
    "    n3 = (i % 100) % 10\n",
    "    if i == ((n1*n1*n1)+(n2*n2*n2)+(n3*n3*n3)) :\n",
    "        list_arm.append(i)\n",
    "\n",
    "for j in list_arm :\n",
    "    print(j, end=\" \")\n"
   ]
  },
  {
   "cell_type": "markdown",
   "id": "88c39bf6",
   "metadata": {},
   "source": [
    "# 6"
   ]
  },
  {
   "cell_type": "code",
   "execution_count": 17,
   "id": "289fc16f",
   "metadata": {},
   "outputs": [
    {
     "name": "stdout",
     "output_type": "stream",
     "text": [
      "I like Pancake\n",
      "I like Kiwi Juice\n",
      "I like Espresso\n",
      "I love Pancake\n",
      "I love Kiwi Juice\n",
      "I love Espresso\n"
     ]
    }
   ],
   "source": [
    "list1 = ['I like', 'I love']\n",
    "list2 = ['Pancake', 'Kiwi Juice', 'Espresso']\n",
    "\n",
    "for i in list1 : \n",
    "    for j in list2 : \n",
    "        print('{} {}'.format(i, j))"
   ]
  },
  {
   "cell_type": "markdown",
   "id": "b93236ab",
   "metadata": {},
   "source": [
    "# 7"
   ]
  },
  {
   "cell_type": "code",
   "execution_count": 7,
   "id": "b3788827",
   "metadata": {},
   "outputs": [
    {
     "name": "stdout",
     "output_type": "stream",
     "text": [
      "Given list =  [5, 6, 3, 9, 2, 12, 3, 8, 7]\n",
      "Result list =  [5, 3, 6, 2, 9, 3, 8, 7, 12]\n"
     ]
    }
   ],
   "source": []
  },
  {
   "cell_type": "markdown",
   "id": "1d0c0099",
   "metadata": {},
   "source": [
    "# 8"
   ]
  },
  {
   "cell_type": "code",
   "execution_count": 437,
   "id": "f5fd6304",
   "metadata": {},
   "outputs": [
    {
     "name": "stdout",
     "output_type": "stream",
     "text": [
      "91.25\n"
     ]
    }
   ],
   "source": [
    "scores = (('Hyun', 88, 95, 90), ('Kang', 85, 90, 95), ('Park', 70, 90, 80),('Hong', 90, 90, 95))\n",
    "avg = 0\n",
    "for _ in scores :\n",
    "    avg = avg + _[2]\n",
    "    \n",
    "print(avg/len(scores))"
   ]
  },
  {
   "cell_type": "markdown",
   "id": "c2c5562d",
   "metadata": {},
   "source": [
    "---"
   ]
  },
  {
   "cell_type": "markdown",
   "id": "f6811e6c",
   "metadata": {},
   "source": [
    "# 9"
   ]
  },
  {
   "cell_type": "code",
   "execution_count": 6,
   "id": "bd40feb0",
   "metadata": {},
   "outputs": [
    {
     "name": "stdout",
     "output_type": "stream",
     "text": [
      "The area of a circle 153.86\n",
      "The circumference of a circle 43.96\n"
     ]
    }
   ],
   "source": [
    "radius = 7\n",
    "pi = 3.14\n",
    "print(\"The area of a circle\", pi * radius**2 )\n",
    "print(\"The circumference of a circle\", 2*pi*radius)"
   ]
  },
  {
   "cell_type": "markdown",
   "id": "300eeccc",
   "metadata": {},
   "source": [
    "# 10"
   ]
  },
  {
   "cell_type": "code",
   "execution_count": 7,
   "id": "de5fa4d2",
   "metadata": {},
   "outputs": [
    {
     "name": "stdout",
     "output_type": "stream",
     "text": [
      "100\n",
      "5050\n"
     ]
    }
   ],
   "source": [
    "print(int('50') + 50)\n",
    "print(str(50) + '50')"
   ]
  },
  {
   "cell_type": "markdown",
   "id": "8a3641ce",
   "metadata": {},
   "source": [
    "# 11"
   ]
  },
  {
   "cell_type": "code",
   "execution_count": 8,
   "id": "8fc8815d",
   "metadata": {},
   "outputs": [
    {
     "name": "stdout",
     "output_type": "stream",
     "text": [
      "1000\n"
     ]
    }
   ],
   "source": [
    "print('1' + '0' + '0' + '0')"
   ]
  },
  {
   "cell_type": "markdown",
   "id": "2375ae96",
   "metadata": {},
   "source": [
    "# 12"
   ]
  },
  {
   "cell_type": "code",
   "execution_count": 13,
   "id": "95d4b753",
   "metadata": {},
   "outputs": [
    {
     "name": "stdout",
     "output_type": "stream",
     "text": [
      "3\n",
      "3! = 6\n"
     ]
    }
   ],
   "source": [
    "n = int(input(\"Enter Your Integer : \"))\n",
    "fac = n*2*1\n",
    "\n",
    "print('{}! ='.format(n),fac )"
   ]
  },
  {
   "cell_type": "markdown",
   "id": "12ce4581",
   "metadata": {},
   "source": [
    "# 13"
   ]
  },
  {
   "cell_type": "code",
   "execution_count": 21,
   "id": "e9bc89a1",
   "metadata": {},
   "outputs": [
    {
     "name": "stdout",
     "output_type": "stream",
     "text": [
      "Enter Your Height : 180\n",
      "Enter Your Weight : 70\n",
      "21.604938271604937\n"
     ]
    }
   ],
   "source": [
    "\n",
    "height = int(input(\"Enter Your Height : \"))\n",
    "height = height / 100\n",
    "weight = int(input(\"Enter Your Weight : \"))\n",
    "\n",
    "calc_bmi = weight / height**2\n",
    "\n",
    "print(calc_bmi)"
   ]
  },
  {
   "cell_type": "markdown",
   "id": "2057d11f",
   "metadata": {},
   "source": [
    "# 14"
   ]
  },
  {
   "cell_type": "code",
   "execution_count": 22,
   "id": "0294390a",
   "metadata": {},
   "outputs": [
    {
     "name": "stdout",
     "output_type": "stream",
     "text": [
      "1800\n"
     ]
    }
   ],
   "source": [
    "width = 30\n",
    "height = 60\n",
    "\n",
    "calc_rec = width * height \n",
    "\n",
    "print(calc_rec)"
   ]
  },
  {
   "cell_type": "markdown",
   "id": "3e1b4cef",
   "metadata": {},
   "source": [
    "# 15"
   ]
  },
  {
   "cell_type": "code",
   "execution_count": 51,
   "id": "5d75d4d2",
   "metadata": {},
   "outputs": [
    {
     "name": "stdout",
     "output_type": "stream",
     "text": [
      "Enter A >> 3\n",
      "Enter B >> 4\n",
      "5.0\n"
     ]
    }
   ],
   "source": [
    "import math\n",
    "a = int(input(\"Enter A >> \"))\n",
    "b = int(input(\"Enter B >> \"))\n",
    "\n",
    "c = a**2 + b**2 \n",
    "c = math.sqrt(c)\n",
    "\n",
    "print(c)"
   ]
  },
  {
   "cell_type": "markdown",
   "id": "144f94f9",
   "metadata": {},
   "source": [
    "# 16"
   ]
  },
  {
   "cell_type": "code",
   "execution_count": 87,
   "id": "5cfb8106",
   "metadata": {
    "scrolled": false
   },
   "outputs": [
    {
     "name": "stdout",
     "output_type": "stream",
     "text": [
      "Enter The Integer : 2\n",
      "1 * 2 = 2\n",
      "2 * 2 = 4\n",
      "3 * 2 = 6\n",
      "4 * 2 = 8\n",
      "5 * 2 = 10\n",
      "6 * 2 = 12\n",
      "7 * 2 = 14\n",
      "8 * 2 = 16\n",
      "9 * 2 = 18\n"
     ]
    }
   ],
   "source": [
    "n = int(input(\"Enter The Integer : \"))\n",
    "\n",
    "print('1 * {} = {}'.format(n, 1 * n))\n",
    "print('2 * {} = {}'.format(n, 2 * n))\n",
    "print('3 * {} = {}'.format(n, 3 * n))\n",
    "print('4 * {} = {}'.format(n, 4 * n))\n",
    "print('5 * {} = {}'.format(n, 5 * n))\n",
    "print('6 * {} = {}'.format(n, 6 * n))\n",
    "print('7 * {} = {}'.format(n, 7 * n))\n",
    "print('8 * {} = {}'.format(n, 8 * n))\n",
    "print('9 * {} = {}'.format(n, 9 * n))"
   ]
  },
  {
   "cell_type": "markdown",
   "id": "ef8a8c4e",
   "metadata": {},
   "source": [
    "# 17"
   ]
  },
  {
   "cell_type": "code",
   "execution_count": 25,
   "id": "4cae50b7",
   "metadata": {},
   "outputs": [
    {
     "name": "stdout",
     "output_type": "stream",
     "text": [
      "Please enter the year : 2023\n",
      "False\n"
     ]
    }
   ],
   "source": [
    "leap_year = int(input(\"Please enter the year : \"))\n",
    "\n",
    "\n",
    "print(leap_year % 4 == 0 and leap_year % 100 != 0 or leap_year % 400 == 0 )"
   ]
  },
  {
   "cell_type": "markdown",
   "id": "bd0a7d27",
   "metadata": {},
   "source": [
    "# 18"
   ]
  },
  {
   "cell_type": "code",
   "execution_count": 27,
   "id": "65a0e6f6",
   "metadata": {},
   "outputs": [
    {
     "name": "stdout",
     "output_type": "stream",
     "text": [
      "Enter Your Integer : 21\n",
      "True\n"
     ]
    }
   ],
   "source": [
    "n = int(input(\"Enter Your Integer : \"))\n",
    "\n",
    "print(n % 2 == 1)"
   ]
  },
  {
   "cell_type": "markdown",
   "id": "dd933892",
   "metadata": {},
   "source": [
    "# 19"
   ]
  },
  {
   "cell_type": "code",
   "execution_count": 59,
   "id": "7316e754",
   "metadata": {},
   "outputs": [
    {
     "name": "stdout",
     "output_type": "stream",
     "text": [
      "Enter Your Integer : 2\n",
      "False\n"
     ]
    }
   ],
   "source": [
    "n = int(input(\"Enter Your Integer : \"))\n",
    "print(n % 2 == 1 and n <= 10)"
   ]
  },
  {
   "cell_type": "markdown",
   "id": "f7dbb572",
   "metadata": {},
   "source": [
    "# 20"
   ]
  },
  {
   "cell_type": "code",
   "execution_count": 29,
   "id": "1c0d0245",
   "metadata": {},
   "outputs": [
    {
     "name": "stdout",
     "output_type": "stream",
     "text": [
      "Enter Three Digit : 222\n",
      "False\n"
     ]
    }
   ],
   "source": [
    "n = int(input(\"Enter Three Digit : \"))\n",
    "\n",
    "print(n >= 300 and n <=400  )"
   ]
  },
  {
   "cell_type": "markdown",
   "id": "4692a3df",
   "metadata": {},
   "source": [
    "# 21"
   ]
  },
  {
   "cell_type": "code",
   "execution_count": 33,
   "id": "4f46d538",
   "metadata": {},
   "outputs": [
    {
     "name": "stdout",
     "output_type": "stream",
     "text": [
      "Enter The Integer : 2\n",
      "False\n"
     ]
    }
   ],
   "source": [
    "n = int(input(\"Enter The Integer : \"))\n",
    "\n",
    "if n % 5 == 0 :\n",
    "    print(\"True\")\n",
    "else : \n",
    "    print(\"False\")"
   ]
  },
  {
   "cell_type": "markdown",
   "id": "0383593a",
   "metadata": {},
   "source": [
    "# 22"
   ]
  },
  {
   "cell_type": "code",
   "execution_count": 60,
   "id": "943b0428",
   "metadata": {},
   "outputs": [
    {
     "name": "stdout",
     "output_type": "stream",
     "text": [
      "Please enter three lottery numbers : 9 3 2\n",
      "You won the lottery!\n"
     ]
    }
   ],
   "source": [
    "n1, n2, n3 = 2, 3, 9\n",
    "\n",
    "a, b, c= input(\"Please enter three lottery numbers : \").split()\n",
    "a, b, c = int(a), int(b), int(c)\n",
    "\n",
    "if a == n1 or a == n2 or a == n3 :\n",
    "    if b == n1 or b == n2 or b == n3 :\n",
    "        if c == n1 or c == n2 or c == n3 :\n",
    "            print(\"You won the lottery!\")"
   ]
  },
  {
   "cell_type": "markdown",
   "id": "d139e05a",
   "metadata": {},
   "source": [
    "# 23"
   ]
  },
  {
   "cell_type": "code",
   "execution_count": 43,
   "id": "12dec34a",
   "metadata": {},
   "outputs": [
    {
     "name": "stdout",
     "output_type": "stream",
     "text": [
      "Enter Integer : 50\n",
      "Natural Number\n"
     ]
    }
   ],
   "source": [
    "n = int(input(\"Enter Integer : \"))\n",
    "if n > 0 :\n",
    "    print(\"Natural Number\")\n",
    "\n",
    "    "
   ]
  },
  {
   "cell_type": "markdown",
   "id": "e9344a75",
   "metadata": {},
   "source": [
    "# 24"
   ]
  },
  {
   "cell_type": "markdown",
   "id": "2356d8b7",
   "metadata": {},
   "source": [
    "# 25"
   ]
  },
  {
   "cell_type": "code",
   "execution_count": 483,
   "id": "1fbb7950",
   "metadata": {
    "scrolled": true
   },
   "outputs": [
    {
     "name": "stdout",
     "output_type": "stream",
     "text": [
      "Enter Age and Height >> 8 120\n",
      "Kid\n"
     ]
    }
   ],
   "source": [
    "age, height = input(\"Enter Age and Height >> \").split()\n",
    "age, height = int(age), int(height)\n",
    "\n",
    "if age >= 20 and age <= 65 :\n",
    "    print(\"Adult\")\n",
    "if age >= 10 and age < 20  :\n",
    "    print(\"Youth\")\n",
    "\n",
    "if age < 10  : \n",
    "    print(\"Kid\")\n",
    "if height >= 110 and age >= 10: \n",
    "    print(\"You can enter\")\n"
   ]
  },
  {
   "cell_type": "code",
   "execution_count": 484,
   "id": "efb7b825",
   "metadata": {},
   "outputs": [
    {
     "name": "stdout",
     "output_type": "stream",
     "text": [
      "Enter Your target >> left\n",
      "No Goal\n",
      "left\n"
     ]
    }
   ],
   "source": [
    "from random import randint \n",
    "\n",
    "n = random.randint(1, 3)\n",
    "if n == 1 :\n",
    "    target = \"left\"\n",
    "\n",
    "elif n == 2 :\n",
    "    target = \"center\"\n",
    "\n",
    "else :\n",
    "    target = \"right\"\n",
    "\n",
    "user_input = input(\"Enter Your target >> \")\n",
    "    \n",
    "if target == user_input :\n",
    "    print(\"No Goal\")\n",
    "else :\n",
    "    print(\"GOALLLL\")\n",
    "print(target)"
   ]
  },
  {
   "cell_type": "code",
   "execution_count": null,
   "id": "8334bdff",
   "metadata": {},
   "outputs": [],
   "source": []
  },
  {
   "cell_type": "raw",
   "id": "65dbb6d1",
   "metadata": {},
   "source": [
    "# 26"
   ]
  },
  {
   "cell_type": "code",
   "execution_count": 100,
   "id": "8c55672d",
   "metadata": {},
   "outputs": [
    {
     "name": "stdout",
     "output_type": "stream",
     "text": [
      "Enter The Alphabet >> a\n",
      "Vowel\n"
     ]
    }
   ],
   "source": [
    "character = input(\"Enter The Alphabet >> \")\n",
    "vowel = ['a','e','i','o','u']\n",
    "\n",
    "if character in vowel :\n",
    "    print(\"Vowel\")\n",
    "else :\n",
    "    print(\"Consonant\")"
   ]
  },
  {
   "cell_type": "markdown",
   "id": "d5ee919c",
   "metadata": {},
   "source": [
    "# 27"
   ]
  },
  {
   "cell_type": "code",
   "execution_count": 112,
   "id": "08877ba8",
   "metadata": {},
   "outputs": [
    {
     "name": "stdout",
     "output_type": "stream",
     "text": [
      "Enter X and Y >> 1.5 -2\n",
      "4\n"
     ]
    }
   ],
   "source": [
    "x, y = input(\"Enter X and Y >> \").split()\n",
    "x, y = float(x), float(y)\n",
    "\n",
    "if x > 0 and y > 0  :\n",
    "    print(\"1\")\n",
    "if x < 0 and y > 0 : \n",
    "    print(\"2\")\n",
    "if x < 0 and y < 0 :\n",
    "    print(\"3\")\n",
    "if x > 0 and y < 0 :\n",
    "    print(\"4\")"
   ]
  },
  {
   "cell_type": "markdown",
   "id": "26f2e1ea",
   "metadata": {},
   "source": [
    "# 28"
   ]
  },
  {
   "cell_type": "code",
   "execution_count": 135,
   "id": "889f4ff7",
   "metadata": {},
   "outputs": [
    {
     "name": "stdout",
     "output_type": "stream",
     "text": [
      "21.4\n"
     ]
    }
   ],
   "source": [
    "person1 = ['David Doe', 20, 1, 180.0, 100.0]\n",
    "person2 = ['John Smit', 25, 1, 170.0, 80.0]\n",
    "person3 = ['Jane Carter', 22, 0, 169.0, 60.0]\n",
    "person4 = ['Peter Kelly', 40, 1, 150.0, 50.0]\n",
    "\n",
    "person = person1 + person2 + person3 + person4 \n",
    "\n",
    "n_list = int(len(person) / 4)\n",
    "\n",
    "age_list = person[1::5]\n",
    "\n",
    "sum_age = sum(age_list)\n",
    "\n",
    "avg_age = sum_age / n_list\n",
    "print(avg_age)"
   ]
  },
  {
   "cell_type": "markdown",
   "id": "ab36aac0",
   "metadata": {},
   "source": [
    "# 29"
   ]
  },
  {
   "cell_type": "code",
   "execution_count": 140,
   "id": "38cd1fa4",
   "metadata": {},
   "outputs": [
    {
     "name": "stdout",
     "output_type": "stream",
     "text": [
      "Sch\n"
     ]
    }
   ],
   "source": [
    "s_list = ['AnBasd', 'Sch', 'student']\n",
    "z_ = s_list[0] \n",
    "\n",
    "for i in range(len(s_list)) :\n",
    "    if len(s_list[i]) < len(z_) :\n",
    "        z_ = s_list[i]\n",
    "print(z_)"
   ]
  },
  {
   "cell_type": "markdown",
   "id": "2b2583f6",
   "metadata": {},
   "source": [
    "# 30"
   ]
  },
  {
   "cell_type": "code",
   "execution_count": 486,
   "id": "3ae15848",
   "metadata": {},
   "outputs": [
    {
     "name": "stdout",
     "output_type": "stream",
     "text": [
      "Enter String > AnB School student\n",
      "AnB School student\n"
     ]
    },
    {
     "ename": "AttributeError",
     "evalue": "'str' object has no attribute 'append'",
     "output_type": "error",
     "traceback": [
      "\u001b[0;31m---------------------------------------------------------------------------\u001b[0m",
      "\u001b[0;31mAttributeError\u001b[0m                            Traceback (most recent call last)",
      "Cell \u001b[0;32mIn[486], line 7\u001b[0m\n\u001b[1;32m      5\u001b[0m \u001b[38;5;28;01mfor\u001b[39;00m i \u001b[38;5;129;01min\u001b[39;00m \u001b[38;5;28mrange\u001b[39m(\u001b[38;5;28mlen\u001b[39m(s_list)) :\n\u001b[1;32m      6\u001b[0m     \u001b[38;5;28;01mif\u001b[39;00m \u001b[38;5;28mlen\u001b[39m(s_list[i]) \u001b[38;5;241m<\u001b[39m\u001b[38;5;241m=\u001b[39m \u001b[38;5;28mlen\u001b[39m(ch_list) :\n\u001b[0;32m----> 7\u001b[0m         \u001b[43mch_list\u001b[49m\u001b[38;5;241;43m.\u001b[39;49m\u001b[43mappend\u001b[49m(i)\n\u001b[1;32m      8\u001b[0m \u001b[38;5;28mprint\u001b[39m(ch_list)\n",
      "\u001b[0;31mAttributeError\u001b[0m: 'str' object has no attribute 'append'"
     ]
    }
   ],
   "source": [
    "s_list = input(\"Enter String > \").split()\n",
    "n_list = []\n",
    "\n",
    "for i in range(len(s_list)) :\n",
    "    "
   ]
  },
  {
   "cell_type": "markdown",
   "id": "23b2f40e",
   "metadata": {},
   "source": [
    "# 31"
   ]
  },
  {
   "cell_type": "code",
   "execution_count": 66,
   "id": "4cef0649",
   "metadata": {
    "scrolled": false
   },
   "outputs": [
    {
     "name": "stdout",
     "output_type": "stream",
     "text": [
      "Rye bread + Meatball + Lettuce + Mayonnaise \n",
      "Rye bread + Meatball + Lettuce + Honey mustard \n",
      "Rye bread + Meatball + Lettuce + Chili sauce \n",
      "Rye bread + Meatball + Tomato + Mayonnaise \n",
      "Rye bread + Meatball + Tomato + Honey mustard \n",
      "Rye bread + Meatball + Tomato + Chili sauce \n",
      "Rye bread + Meatball + Cucumber + Mayonnaise \n",
      "Rye bread + Meatball + Cucumber + Honey mustard \n",
      "Rye bread + Meatball + Cucumber + Chili sauce \n",
      "Rye bread + Sausages + Lettuce + Mayonnaise \n",
      "Rye bread + Sausages + Lettuce + Honey mustard \n",
      "Rye bread + Sausages + Lettuce + Chili sauce \n",
      "Rye bread + Sausages + Tomato + Mayonnaise \n",
      "Rye bread + Sausages + Tomato + Honey mustard \n",
      "Rye bread + Sausages + Tomato + Chili sauce \n",
      "Rye bread + Sausages + Cucumber + Mayonnaise \n",
      "Rye bread + Sausages + Cucumber + Honey mustard \n",
      "Rye bread + Sausages + Cucumber + Chili sauce \n",
      "Rye bread + Chicken breast + Lettuce + Mayonnaise \n",
      "Rye bread + Chicken breast + Lettuce + Honey mustard \n",
      "Rye bread + Chicken breast + Lettuce + Chili sauce \n",
      "Rye bread + Chicken breast + Tomato + Mayonnaise \n",
      "Rye bread + Chicken breast + Tomato + Honey mustard \n",
      "Rye bread + Chicken breast + Tomato + Chili sauce \n",
      "Rye bread + Chicken breast + Cucumber + Mayonnaise \n",
      "Rye bread + Chicken breast + Cucumber + Honey mustard \n",
      "Rye bread + Chicken breast + Cucumber + Chili sauce \n",
      "Wheat + Meatball + Lettuce + Mayonnaise \n",
      "Wheat + Meatball + Lettuce + Honey mustard \n",
      "Wheat + Meatball + Lettuce + Chili sauce \n",
      "Wheat + Meatball + Tomato + Mayonnaise \n",
      "Wheat + Meatball + Tomato + Honey mustard \n",
      "Wheat + Meatball + Tomato + Chili sauce \n",
      "Wheat + Meatball + Cucumber + Mayonnaise \n",
      "Wheat + Meatball + Cucumber + Honey mustard \n",
      "Wheat + Meatball + Cucumber + Chili sauce \n",
      "Wheat + Sausages + Lettuce + Mayonnaise \n",
      "Wheat + Sausages + Lettuce + Honey mustard \n",
      "Wheat + Sausages + Lettuce + Chili sauce \n",
      "Wheat + Sausages + Tomato + Mayonnaise \n",
      "Wheat + Sausages + Tomato + Honey mustard \n",
      "Wheat + Sausages + Tomato + Chili sauce \n",
      "Wheat + Sausages + Cucumber + Mayonnaise \n",
      "Wheat + Sausages + Cucumber + Honey mustard \n",
      "Wheat + Sausages + Cucumber + Chili sauce \n",
      "Wheat + Chicken breast + Lettuce + Mayonnaise \n",
      "Wheat + Chicken breast + Lettuce + Honey mustard \n",
      "Wheat + Chicken breast + Lettuce + Chili sauce \n",
      "Wheat + Chicken breast + Tomato + Mayonnaise \n",
      "Wheat + Chicken breast + Tomato + Honey mustard \n",
      "Wheat + Chicken breast + Tomato + Chili sauce \n",
      "Wheat + Chicken breast + Cucumber + Mayonnaise \n",
      "Wheat + Chicken breast + Cucumber + Honey mustard \n",
      "Wheat + Chicken breast + Cucumber + Chili sauce \n",
      "White + Meatball + Lettuce + Mayonnaise \n",
      "White + Meatball + Lettuce + Honey mustard \n",
      "White + Meatball + Lettuce + Chili sauce \n",
      "White + Meatball + Tomato + Mayonnaise \n",
      "White + Meatball + Tomato + Honey mustard \n",
      "White + Meatball + Tomato + Chili sauce \n",
      "White + Meatball + Cucumber + Mayonnaise \n",
      "White + Meatball + Cucumber + Honey mustard \n",
      "White + Meatball + Cucumber + Chili sauce \n",
      "White + Sausages + Lettuce + Mayonnaise \n",
      "White + Sausages + Lettuce + Honey mustard \n",
      "White + Sausages + Lettuce + Chili sauce \n",
      "White + Sausages + Tomato + Mayonnaise \n",
      "White + Sausages + Tomato + Honey mustard \n",
      "White + Sausages + Tomato + Chili sauce \n",
      "White + Sausages + Cucumber + Mayonnaise \n",
      "White + Sausages + Cucumber + Honey mustard \n",
      "White + Sausages + Cucumber + Chili sauce \n",
      "White + Chicken breast + Lettuce + Mayonnaise \n",
      "White + Chicken breast + Lettuce + Honey mustard \n",
      "White + Chicken breast + Lettuce + Chili sauce \n",
      "White + Chicken breast + Tomato + Mayonnaise \n",
      "White + Chicken breast + Tomato + Honey mustard \n",
      "White + Chicken breast + Tomato + Chili sauce \n",
      "White + Chicken breast + Cucumber + Mayonnaise \n",
      "White + Chicken breast + Cucumber + Honey mustard \n",
      "White + Chicken breast + Cucumber + Chili sauce \n"
     ]
    }
   ],
   "source": [
    "bread = ['Rye bread', 'Wheat', 'White']\n",
    "meat = ['Meatball', 'Sausages', 'Chicken breast']\n",
    "vegetable = ['Lettuce', 'Tomato', 'Cucumber']\n",
    "sauce = ['Mayonnaise', 'Honey mustard','Chili sauce']\n",
    "\n",
    "for b in bread :\n",
    "    for m in meat :\n",
    "        for v in vegetable :\n",
    "            for s in sauce :\n",
    "                print('{} + {} + {} + {} '.format(b, m, v, s))"
   ]
  },
  {
   "cell_type": "markdown",
   "id": "329401ba",
   "metadata": {},
   "source": [
    "# 32"
   ]
  },
  {
   "cell_type": "code",
   "execution_count": 37,
   "id": "77794236",
   "metadata": {},
   "outputs": [
    {
     "name": "stdout",
     "output_type": "stream",
     "text": [
      "5\n",
      "  1  2  3  4  5\n",
      "  6  7  8  9 10\n",
      " 11 12 13 14 15\n",
      " 16 17 18 19 20\n",
      " 21 22 23 24 25\n"
     ]
    }
   ],
   "source": []
  },
  {
   "cell_type": "markdown",
   "id": "0d5597c6",
   "metadata": {},
   "source": [
    "# 33"
   ]
  },
  {
   "cell_type": "code",
   "execution_count": 491,
   "id": "c2094493",
   "metadata": {},
   "outputs": [
    {
     "name": "stdout",
     "output_type": "stream",
     "text": [
      "Enter The Integer : 50\n",
      "Lower\n",
      "Enter The Integer : 70\n",
      "Lower\n",
      "Enter The Integer : 80\n",
      "Lower\n",
      "Enter The Integer : 90\n",
      "Higher\n",
      "Enter The Integer : 85\n",
      "Lower\n",
      "Enter The Integer : 88\n",
      "Lower\n",
      "Enter The Integer : 89\n",
      "Answer\n"
     ]
    }
   ],
   "source": [
    "from random import randint\n",
    "\n",
    "num = random.randint(1, 100)\n",
    "while True : \n",
    "    chosen_num = int(input(\"Enter The Integer : \"))\n",
    "    if chosen_num > num : \n",
    "        print(\"Higher\")\n",
    "        continue\n",
    "    elif chosen_num < num :\n",
    "        print(\"Lower\")\n",
    "        continue\n",
    "    else :\n",
    "        print(\"Answer\")\n",
    "        break"
   ]
  },
  {
   "cell_type": "markdown",
   "id": "23c03f79",
   "metadata": {},
   "source": [
    "# 34"
   ]
  },
  {
   "cell_type": "code",
   "execution_count": null,
   "id": "3aaa1bf0",
   "metadata": {},
   "outputs": [],
   "source": []
  },
  {
   "cell_type": "markdown",
   "id": "3d410644",
   "metadata": {},
   "source": [
    "# 35"
   ]
  },
  {
   "cell_type": "code",
   "execution_count": 506,
   "id": "e6ae61ae",
   "metadata": {},
   "outputs": [
    {
     "name": "stdout",
     "output_type": "stream",
     "text": [
      "3\n"
     ]
    }
   ],
   "source": [
    "daily_sale = (100, 121, 120, 130, 140, 120, 122, 123, 190, 125)\n",
    "count = 0\n",
    "for i in range(len(daily_sale) - 1) :\n",
    "    if daily_sale[i] > daily_sale[i+1]:\n",
    "        count+=1\n",
    "print(count)"
   ]
  },
  {
   "cell_type": "markdown",
   "id": "29fb834c",
   "metadata": {},
   "source": [
    "# 36"
   ]
  },
  {
   "cell_type": "code",
   "execution_count": 504,
   "id": "c28a7215",
   "metadata": {},
   "outputs": [
    {
     "name": "stdout",
     "output_type": "stream",
     "text": [
      "9\n"
     ]
    }
   ],
   "source": [
    "n = [1, 2, 5, 4, 3, 2, 1, 4, 7, 8, 9, 9, 3, 7, 3, 9]\n",
    "l = list(n)\n",
    "l.sort()\n",
    "c = n[0]\n",
    "i = 1\n",
    "count = i\n",
    "\n",
    "while i < len(n) :\n",
    "    count += 1\n",
    "    if n[i] != c :\n",
    "        if n.count(n[i] > n.count(c)) :\n",
    "            c = n[i]\n",
    "        elif n.count(n[i]) == n.count(c) and n[i] > c :\n",
    "            c = n[i]\n",
    "    i +=1 \n",
    "print(c)"
   ]
  },
  {
   "cell_type": "markdown",
   "id": "bc4226ae",
   "metadata": {},
   "source": [
    "# 37"
   ]
  },
  {
   "cell_type": "code",
   "execution_count": 503,
   "id": "a0e88e3d",
   "metadata": {},
   "outputs": [
    {
     "name": "stdout",
     "output_type": "stream",
     "text": [
      "[(1,), 'abc', (1,), ('a',), ('a', 'b')]\n"
     ]
    }
   ],
   "source": [
    "a = [(1,), 'abc', (1,), ('a',), ('a', 'b'), ((),)]\n",
    "b = []\n",
    "\n",
    "for i in range(len(a)) :\n",
    "    if any(a[i]) == False :\n",
    "        b.append(a[i])\n",
    "for i in range(len(b)) :\n",
    "    a.remove(b[i])\n",
    "print(a)"
   ]
  },
  {
   "cell_type": "markdown",
   "id": "b85f3721",
   "metadata": {},
   "source": [
    "# 38"
   ]
  },
  {
   "cell_type": "code",
   "execution_count": 505,
   "id": "7d1f91f2",
   "metadata": {},
   "outputs": [
    {
     "name": "stdout",
     "output_type": "stream",
     "text": [
      "Do you want to play a game? :yes\n",
      "Choose among scissors, rock, paper > rock\n",
      "rock\n",
      "Do you want to play a game? :no\n",
      "Game Over\n"
     ]
    }
   ],
   "source": [
    "while True :\n",
    "    user_input = input(\"Do you want to play a game? :\")\n",
    "    if user_input == 'yes' :\n",
    "        while True :\n",
    "            choose = input(\"Choose among scissors, rock, paper > \")\n",
    "            a = ['scissors', 'rock', 'papper']\n",
    "            if choose in a :\n",
    "                print(choose)\n",
    "                break\n",
    "            else :\n",
    "                continue \n",
    "    else :\n",
    "        print(\"Game Over\")\n",
    "        break"
   ]
  },
  {
   "cell_type": "markdown",
   "id": "d5b27b7e",
   "metadata": {},
   "source": [
    "---"
   ]
  },
  {
   "cell_type": "markdown",
   "id": "163584c6",
   "metadata": {},
   "source": [
    "# 39"
   ]
  },
  {
   "cell_type": "code",
   "execution_count": 45,
   "id": "220e2f01",
   "metadata": {},
   "outputs": [
    {
     "name": "stdout",
     "output_type": "stream",
     "text": [
      "#\n",
      "##\n",
      "###\n",
      "####\n",
      "#####\n"
     ]
    }
   ],
   "source": [
    "print('#')\n",
    "print('##')\n",
    "print('###')\n",
    "print('####')\n",
    "print('#####')"
   ]
  },
  {
   "cell_type": "markdown",
   "id": "61dc3892",
   "metadata": {},
   "source": [
    "# 40"
   ]
  },
  {
   "cell_type": "code",
   "execution_count": 46,
   "id": "c386b02c",
   "metadata": {},
   "outputs": [
    {
     "name": "stdout",
     "output_type": "stream",
     "text": [
      "10 // 8 = 1\n",
      "10 % 8 = 2\n"
     ]
    }
   ],
   "source": [
    "print()"
   ]
  },
  {
   "cell_type": "markdown",
   "id": "eda10fd6",
   "metadata": {},
   "source": [
    "# 41"
   ]
  },
  {
   "cell_type": "code",
   "execution_count": 161,
   "id": "33fa000a",
   "metadata": {},
   "outputs": [
    {
     "name": "stdout",
     "output_type": "stream",
     "text": [
      "86\n",
      "22\n",
      "1728\n",
      "1.6875\n"
     ]
    }
   ],
   "source": [
    "a = 54\n",
    "b = 32 \n",
    "\n",
    "print(a+b)\n",
    "print(a-b)\n",
    "print(a*b)\n",
    "print(a/b)"
   ]
  },
  {
   "cell_type": "markdown",
   "id": "35efc96c",
   "metadata": {},
   "source": [
    "# 42"
   ]
  },
  {
   "cell_type": "code",
   "execution_count": 163,
   "id": "41ffc40f",
   "metadata": {},
   "outputs": [
    {
     "name": "stdout",
     "output_type": "stream",
     "text": [
      "Enter First Integer : 54\n",
      "Enter Second Integer : 32\n",
      "54+32=86\n",
      "54-32=22\n"
     ]
    }
   ],
   "source": [
    "a = int(input(\"Enter First Integer : \"))\n",
    "b = int(input(\"Enter Second Integer : \"))\n",
    "\n",
    "print('{}+{}={}'.format(a, b, a+b))\n",
    "print('{}-{}={}'.format(a, b, a-b))"
   ]
  },
  {
   "cell_type": "markdown",
   "id": "b8b63eed",
   "metadata": {},
   "source": [
    "# 43"
   ]
  },
  {
   "cell_type": "code",
   "execution_count": 488,
   "id": "1f74417c",
   "metadata": {},
   "outputs": [
    {
     "name": "stdout",
     "output_type": "stream",
     "text": [
      "2\n",
      "2\n",
      "4\n",
      "6\n",
      "8\n",
      "10\n",
      "12\n",
      "14\n",
      "16\n",
      "18\n"
     ]
    }
   ],
   "source": [
    "n = int(input())\n",
    "\n",
    "for i in range(1, 10) :\n",
    "    print(n * i)"
   ]
  },
  {
   "cell_type": "markdown",
   "id": "617777e7",
   "metadata": {},
   "source": [
    "# 44"
   ]
  },
  {
   "cell_type": "code",
   "execution_count": 180,
   "id": "58883d2c",
   "metadata": {},
   "outputs": [
    {
     "name": "stdout",
     "output_type": "stream",
     "text": [
      "Enter Three Integer : 6 3 2\n",
      "11\n",
      "1\n",
      "36\n",
      "1.0\n"
     ]
    }
   ],
   "source": [
    "a, b, c = input(\"Enter Three Integer : \").split()\n",
    "a, b, c = int(a), int(b), int(c)\n",
    "\n",
    "if a > 0 and a < 100 :\n",
    "    if b > 0 and b < 100 :\n",
    "        if c > 0 and c < 100 :\n",
    "            print(a+b+c)\n",
    "            print(a-b-c)\n",
    "            print(a*b*c)\n",
    "            print(a/b/c)\n",
    "\n"
   ]
  },
  {
   "cell_type": "markdown",
   "id": "8c861e2b",
   "metadata": {},
   "source": [
    "# 45"
   ]
  },
  {
   "cell_type": "code",
   "execution_count": 190,
   "id": "e44985d5",
   "metadata": {},
   "outputs": [
    {
     "name": "stdout",
     "output_type": "stream",
     "text": [
      "Enter Two English Alphabet Chracter >> A Z\n",
      "A:65\n",
      "A:90\n"
     ]
    }
   ],
   "source": [
    "ch1, ch2 = input(\"Enter Two English Alphabet Chracter >> \").split()\n",
    "\n",
    "print('{}:{}'.format(ch1, ord(ch1)))\n",
    "print('{}:{}'.format(ch1, ord(ch2)))"
   ]
  },
  {
   "cell_type": "markdown",
   "id": "b9a06a09",
   "metadata": {},
   "source": [
    "# 46"
   ]
  },
  {
   "cell_type": "code",
   "execution_count": 221,
   "id": "01ee9a46",
   "metadata": {},
   "outputs": [
    {
     "name": "stdout",
     "output_type": "stream",
     "text": [
      "Enter 5 Integer : 5 8 7 8 11\n",
      "5\n",
      "13\n",
      "20\n",
      "28\n",
      "39\n"
     ]
    }
   ],
   "source": [
    "n1,n2,n3,n4,n5 = input(\"Enter 5 Integer : \").split()\n",
    "n1,n2,n3,n4,n5 = int(n1), int(n2), int(n3), int(n4), int(n5)\n",
    "\n",
    "n_list = [n1, n2, n3, n4 ,n5]\n",
    "n_add = 0\n",
    "\n",
    "for i in n_list :\n",
    "    n_add += i\n",
    "    print(n_add)"
   ]
  },
  {
   "cell_type": "markdown",
   "id": "6e52cc06",
   "metadata": {},
   "source": [
    "# 47"
   ]
  },
  {
   "cell_type": "code",
   "execution_count": 195,
   "id": "5421f3aa",
   "metadata": {},
   "outputs": [
    {
     "name": "stdout",
     "output_type": "stream",
     "text": [
      "Enter Two Integer : 4 3\n",
      "2\n"
     ]
    }
   ],
   "source": [
    "r1, s = input(\"Enter Two Integer : \").split()\n",
    "r1, s = int(r1), int(s)\n",
    "\n",
    "if r1 >= -1000 or r1 <= 1000 and s >= -1000 or s <= 1000 :\n",
    "    print(2*s-r1)"
   ]
  },
  {
   "cell_type": "markdown",
   "id": "ebf9bdaa",
   "metadata": {},
   "source": [
    "# 48"
   ]
  },
  {
   "cell_type": "code",
   "execution_count": 494,
   "id": "3568d977",
   "metadata": {},
   "outputs": [
    {
     "name": "stdout",
     "output_type": "stream",
     "text": [
      "6 17\n",
      "25\n",
      "6 42\n"
     ]
    }
   ],
   "source": [
    "a, b = input().split()\n",
    "a, b = int(a), int(b)\n",
    "\n",
    "c = int(input())\n",
    "\n",
    "calc = b + c\n",
    "\n",
    "if calc > 60 :\n",
    "    a += 1 \n",
    "    b = d - 60\n",
    "    if a > 23 :\n",
    "        print(a, b)\n",
    "else :\n",
    "    print(a, calc)"
   ]
  },
  {
   "cell_type": "markdown",
   "id": "b195b61a",
   "metadata": {},
   "source": [
    "# 49"
   ]
  },
  {
   "cell_type": "code",
   "execution_count": 55,
   "id": "b6817c8e",
   "metadata": {},
   "outputs": [
    {
     "name": "stdout",
     "output_type": "stream",
     "text": [
      "3\n",
      "6\n"
     ]
    }
   ],
   "source": []
  },
  {
   "cell_type": "markdown",
   "id": "444ab0b8",
   "metadata": {},
   "source": [
    "# 50"
   ]
  },
  {
   "cell_type": "code",
   "execution_count": 217,
   "id": "d834dd59",
   "metadata": {},
   "outputs": [
    {
     "name": "stdout",
     "output_type": "stream",
     "text": [
      "Enter Integer : 8\n",
      "False Odd\n"
     ]
    }
   ],
   "source": [
    "n = int(input(\"Enter Integer : \"))\n",
    "\n",
    "if n > 0 and n <= 100 :\n",
    "    if n % 2 == 0 :\n",
    "        print(\"even\")\n",
    "    else :\n",
    "        print(\"odd\")"
   ]
  },
  {
   "cell_type": "markdown",
   "id": "cd24e4e4",
   "metadata": {},
   "source": [
    "# 51"
   ]
  },
  {
   "cell_type": "code",
   "execution_count": 211,
   "id": "326bd28d",
   "metadata": {},
   "outputs": [
    {
     "name": "stdout",
     "output_type": "stream",
     "text": [
      "Enter two Integer : 20000 90\n",
      ">\n"
     ]
    }
   ],
   "source": [
    "n1, n2 = input(\"Enter two Integer : \").split()\n",
    "n1, n2 = int(n1), int(n2)\n",
    "\n",
    "if n1 > n2 :\n",
    "    print('>')\n",
    "if n1 < n2 : \n",
    "    print('<')\n",
    "if n1 == n2 :\n",
    "    print(\"=\")"
   ]
  },
  {
   "cell_type": "markdown",
   "id": "11318c34",
   "metadata": {},
   "source": [
    "# 52"
   ]
  },
  {
   "cell_type": "code",
   "execution_count": 224,
   "id": "42b4c3fb",
   "metadata": {},
   "outputs": [
    {
     "name": "stdout",
     "output_type": "stream",
     "text": [
      "enter a > 1\n",
      "enter b > 2\n",
      "odd\n"
     ]
    }
   ],
   "source": [
    "a = int(input(\"enter a > \"))\n",
    "b = int(input(\"enter b > \"))\n",
    "\n",
    "if a > 0 and a <= 100 or b > 0 and b <= 100 :\n",
    "    if (a + b) % 2 == 0 :\n",
    "        print(\"even\")\n",
    "    else :\n",
    "        print(\"odd\")"
   ]
  },
  {
   "cell_type": "markdown",
   "id": "fd0d847d",
   "metadata": {},
   "source": [
    "# 53"
   ]
  },
  {
   "cell_type": "code",
   "execution_count": 233,
   "id": "542d3f16",
   "metadata": {},
   "outputs": [
    {
     "name": "stdout",
     "output_type": "stream",
     "text": [
      "Enter A > -4\n",
      "Enter B > 4\n",
      "0 or Negative Number\n"
     ]
    }
   ],
   "source": [
    "a = int(input(\"Enter A > \"))\n",
    "b = int(input(\"Enter B > \"))\n",
    "\n",
    "calc = a + b\n",
    "\n",
    "if calc > 0 :\n",
    "    print(\"Natual Number\")\n",
    "else :\n",
    "    print('{} or Negative Number'.format(calc))"
   ]
  },
  {
   "cell_type": "markdown",
   "id": "57b2a802",
   "metadata": {},
   "source": [
    "# 54"
   ]
  },
  {
   "cell_type": "code",
   "execution_count": 242,
   "id": "b4d418bb",
   "metadata": {},
   "outputs": [
    {
     "name": "stdout",
     "output_type": "stream",
     "text": [
      "Enter Three Integer (Price / Number / amount)500 7 2500\n",
      "1000\n"
     ]
    }
   ],
   "source": [
    "p, n, m = input(\"Enter Three Integer (Price / Number / amount)\").split()\n",
    "p, n, m = int(p), int(n), int(m)\n",
    "\n",
    "calc_item = p * n\n",
    "\n",
    "if calc_item > m :\n",
    "    withdraw = calc_item - m\n",
    "    print(withdraw)\n",
    "else :\n",
    "    print(\"0\")"
   ]
  },
  {
   "cell_type": "markdown",
   "id": "a7b85dd4",
   "metadata": {},
   "source": [
    "# 55"
   ]
  },
  {
   "cell_type": "code",
   "execution_count": 249,
   "id": "65932068",
   "metadata": {},
   "outputs": [
    {
     "name": "stdout",
     "output_type": "stream",
     "text": [
      "Enter Eluer Total Score > 91 78 87 100\n",
      "Enter Eculid Total Score > 88 100 89 73\n",
      "356\n"
     ]
    }
   ],
   "source": [
    "a = input(\"Enter Eluer Total Score > \").split()\n",
    "b = input(\"Enter Eculid Total Score > \").split()\n",
    "\n",
    "\n",
    "\n",
    "avg_a = 0\n",
    "avg_b = 0\n",
    "\n",
    "for i in a :\n",
    "    avg_a = avg_a + int(i) \n",
    "for j in b :\n",
    "    avg_b = avg_b + int(j)\n",
    "\n",
    "if avg_a > avg_b :\n",
    "    print(avg_a)\n",
    "else :\n",
    "    print(avg_b)\n"
   ]
  },
  {
   "cell_type": "markdown",
   "id": "bada49b0",
   "metadata": {},
   "source": [
    "# 56"
   ]
  },
  {
   "cell_type": "code",
   "execution_count": 258,
   "id": "82b0838d",
   "metadata": {},
   "outputs": [
    {
     "name": "stdout",
     "output_type": "stream",
     "text": [
      "Enter Integer : 5\n",
      "1 or more and 10 or less\n"
     ]
    }
   ],
   "source": [
    "a = int(input(\"Enter Integer : \"))\n",
    "\n",
    "if a > 0 and a < 10 :\n",
    "    print(\"1 or more and 10 or less\")\n",
    "else :\n",
    "    print(\"less than 1 or greater than 10\")"
   ]
  },
  {
   "cell_type": "markdown",
   "id": "902f6c8c",
   "metadata": {},
   "source": [
    "# 57"
   ]
  },
  {
   "cell_type": "code",
   "execution_count": 265,
   "id": "2a1248c8",
   "metadata": {},
   "outputs": [
    {
     "name": "stdout",
     "output_type": "stream",
     "text": [
      "Enter Two Integer : 5 4\n",
      "both a and b are zero or more\n"
     ]
    }
   ],
   "source": [
    "a, b = input(\"Enter Two Integer : \").split()\n",
    "a,b = int(a), int(b)\n",
    "\n",
    "if a > 0 and b > 0 or a == 0 and b == 0 :\n",
    "    print(\"both a and b are zero or more\")\n",
    "else :\n",
    "    print(\"One of a or b is negative number\")"
   ]
  },
  {
   "cell_type": "markdown",
   "id": "7f820066",
   "metadata": {},
   "source": [
    "# 58"
   ]
  },
  {
   "cell_type": "code",
   "execution_count": 301,
   "id": "fd65f8d2",
   "metadata": {},
   "outputs": [
    {
     "name": "stdout",
     "output_type": "stream",
     "text": [
      "Enter Weight >> 8\n",
      "Yes\n"
     ]
    }
   ],
   "source": [
    "\n",
    "while True:\n",
    "    w = int(input(\"Enter Weight >> \"))\n",
    "    if 1 <= w <= 100 :\n",
    "        if w % 2 == 0 :\n",
    "            print(\"Yes\")\n",
    "            break\n",
    "        else :\n",
    "            print(\"No\")\n",
    "            break"
   ]
  },
  {
   "cell_type": "code",
   "execution_count": null,
   "id": "bbbd844b",
   "metadata": {},
   "outputs": [],
   "source": []
  },
  {
   "cell_type": "markdown",
   "id": "65c55cca",
   "metadata": {},
   "source": [
    "# 59"
   ]
  },
  {
   "cell_type": "code",
   "execution_count": 308,
   "id": "ed755960",
   "metadata": {},
   "outputs": [
    {
     "name": "stdout",
     "output_type": "stream",
     "text": [
      "Enter Password : 1234\n"
     ]
    },
    {
     "ename": "TypeError",
     "evalue": "object of type 'int' has no len()",
     "output_type": "error",
     "traceback": [
      "\u001b[0;31m---------------------------------------------------------------------------\u001b[0m",
      "\u001b[0;31mTypeError\u001b[0m                                 Traceback (most recent call last)",
      "Cell \u001b[0;32mIn[308], line 3\u001b[0m\n\u001b[1;32m      1\u001b[0m password \u001b[38;5;241m=\u001b[39m \u001b[38;5;28mint\u001b[39m(\u001b[38;5;28minput\u001b[39m(\u001b[38;5;124m\"\u001b[39m\u001b[38;5;124mEnter Password : \u001b[39m\u001b[38;5;124m\"\u001b[39m)) \n\u001b[0;32m----> 3\u001b[0m \u001b[38;5;28;01mwhile\u001b[39;00m \u001b[38;5;28;43mlen\u001b[39;49m\u001b[43m(\u001b[49m\u001b[43mpassword\u001b[49m\u001b[43m)\u001b[49m \u001b[38;5;241m==\u001b[39m \u001b[38;5;241m4\u001b[39m : \n\u001b[1;32m      4\u001b[0m     \u001b[38;5;28mprint\u001b[39m(\u001b[38;5;124m\"\u001b[39m\u001b[38;5;124mhi\u001b[39m\u001b[38;5;124m\"\u001b[39m)\n",
      "\u001b[0;31mTypeError\u001b[0m: object of type 'int' has no len()"
     ]
    }
   ],
   "source": []
  },
  {
   "cell_type": "markdown",
   "id": "afe2c331",
   "metadata": {},
   "source": [
    "# 60"
   ]
  },
  {
   "cell_type": "code",
   "execution_count": 334,
   "id": "9ab8aba6",
   "metadata": {},
   "outputs": [
    {
     "name": "stdout",
     "output_type": "stream",
     "text": [
      "Enter Scores : 59\n",
      "F\n"
     ]
    }
   ],
   "source": [
    "s = int(input(\"Enter Scores : \"))\n",
    "\n",
    "if s >= 0 and s <= 100 :\n",
    "    if s >= 90 :\n",
    "        print(\"A\")\n",
    "    elif s >= 80 and s < 90 : \n",
    "        print(\"B\")\n",
    "    elif s >= 70 and s < 80 :\n",
    "        print(\"C\")\n",
    "    elif s >= 60 and s < 70 : \n",
    "        print(\"D\")\n",
    "    else : \n",
    "        print(\"F\")"
   ]
  },
  {
   "cell_type": "markdown",
   "id": "62c4c10e",
   "metadata": {},
   "source": [
    "# 61"
   ]
  },
  {
   "cell_type": "code",
   "execution_count": 352,
   "id": "254b84b0",
   "metadata": {},
   "outputs": [
    {
     "name": "stdout",
     "output_type": "stream",
     "text": [
      "Enter Two Integer : 3 7\n",
      "neither\n"
     ]
    }
   ],
   "source": [
    "import random\n",
    "\n",
    "n1, n2 = input(\"Enter Two Integer : \").split()\n",
    "\n",
    "n1, n2 = int(n1), int(n2)\n",
    "\n",
    "if n1 == n2 : \n",
    "    print(\"both\")\n",
    "elif n1 == 1 and n2 != 1 :\n",
    "    print(\"either\")\n",
    "else :\n",
    "    print(\"neither\")"
   ]
  },
  {
   "cell_type": "markdown",
   "id": "372fc730",
   "metadata": {},
   "source": [
    "# 62"
   ]
  },
  {
   "cell_type": "code",
   "execution_count": 369,
   "id": "4fcaba1b",
   "metadata": {},
   "outputs": [
    {
     "name": "stdout",
     "output_type": "stream",
     "text": [
      "Enter three Integer : 5 15 3\n",
      "5 = 15 / 3\n"
     ]
    }
   ],
   "source": [
    "n1, n2, n3 = input(\"Enter three Integer : \").split()\n",
    "\n",
    "n1, n2, n3 = int(n1), int(n2), int(n3)\n",
    "\n",
    "if (n1 + n2) == n3 :\n",
    "    print('{} + {} = {}'.format(n1, n2, n1 + n2))\n",
    "elif (n1 - n2) == n3 :\n",
    "    print('{} - {} = {}'.format(n1, n2, n1 - n2))\n",
    "elif (n1 * n2) == n3 :\n",
    "    print('{} * {} = {}'.format(n1, n2, n1 * n2))\n",
    "elif n1 == n2 // n3 :\n",
    "    print('{} = {} / {}'.format(n2//n3, n2, n3))"
   ]
  },
  {
   "cell_type": "markdown",
   "id": "80e67ad4",
   "metadata": {},
   "source": [
    "# 63"
   ]
  },
  {
   "cell_type": "code",
   "execution_count": 377,
   "id": "7c835be7",
   "metadata": {},
   "outputs": [
    {
     "name": "stdout",
     "output_type": "stream",
     "text": [
      "Enter Number on the card : 8 5 2\n",
      "800\n"
     ]
    }
   ],
   "source": [
    "coin1, coin2, coin3 = input(\"Enter Number on the card : \").split()\n",
    "coin1, coin2, coin3 = int(coin1), int(coin2), int(coin3)\n",
    "\n",
    "\n",
    "if coin1 > 0 or coin1 < 10 and coin2 > 0 or coin2 < 10 and coin3 > 0 or coin3 < 10 :\n",
    "    if coin1 == coin2 == coin3 :\n",
    "        prize = 10000 + (coin1 * 1000)\n",
    "        print(prize)\n",
    "    elif coin1 == coin2 != coin3 or coin1 != coin2 == coin3 :\n",
    "        prize = 1000 + (coin1 and coin2 * 100)\n",
    "        print(prize)\n",
    "    else :\n",
    "        prize = max(coin1, coin2, coin3) * 100\n",
    "        print(prize)"
   ]
  },
  {
   "cell_type": "markdown",
   "id": "fb7251e0",
   "metadata": {},
   "source": [
    "# 64"
   ]
  },
  {
   "cell_type": "code",
   "execution_count": 390,
   "id": "c5e839fd",
   "metadata": {},
   "outputs": [
    {
     "name": "stdout",
     "output_type": "stream",
     "text": [
      "Enter Students : 7\n",
      "Enter ribs : 3\n",
      "6\n"
     ]
    }
   ],
   "source": [
    "n = int(input(\"Enter Students : \"))\n",
    "k = int(input(\"Enter ribs : \"))\n",
    "\n",
    "if 1 <= n and k <= 1000 : \n",
    "    if n % 2 == 1 :\n",
    "        time = n // k * 2 + 2 \n",
    "        print(time)\n",
    "    else :\n",
    "        time = n // k * 2 \n",
    "        print(time)"
   ]
  },
  {
   "cell_type": "markdown",
   "id": "3d12ac55",
   "metadata": {},
   "source": [
    "# 65"
   ]
  },
  {
   "cell_type": "code",
   "execution_count": 400,
   "id": "b6eaf43f",
   "metadata": {},
   "outputs": [
    {
     "name": "stdout",
     "output_type": "stream",
     "text": [
      "13\n",
      "1 2 3 4 5 6 7 8 9 10 11 12 13 "
     ]
    }
   ],
   "source": [
    "n = int(input())\n",
    "\n",
    "for i in range(1, n+1) :\n",
    "    print(i, end=\" \")"
   ]
  },
  {
   "cell_type": "markdown",
   "id": "5c736584",
   "metadata": {},
   "source": [
    "# 66"
   ]
  },
  {
   "cell_type": "code",
   "execution_count": 421,
   "id": "2d0812ec",
   "metadata": {},
   "outputs": [
    {
     "name": "stdout",
     "output_type": "stream",
     "text": [
      "10\n",
      "1 2 7\n",
      "1 3 6\n",
      "1 4 5\n",
      "2 3 5\n",
      "4\n"
     ]
    }
   ],
   "source": [
    "n = int(input())\n",
    "l = []\n",
    "if n in range(3, 31) :\n",
    "    for i in range (1, n +1) :\n",
    "        for j in range(1, n +1) :\n",
    "            for k in range(1, n +1) :\n",
    "                if i+j+k == n and i != j and i != k and j != k and i < j and j < k:\n",
    "                    print('{} {} {}'.format(i, j, k))\n",
    "                    l.append((i, j, k))\n",
    "print(len(l))\n",
    "                    "
   ]
  },
  {
   "cell_type": "markdown",
   "id": "aa7bb1e9",
   "metadata": {},
   "source": [
    "# 67"
   ]
  },
  {
   "cell_type": "code",
   "execution_count": 425,
   "id": "6a0209a9",
   "metadata": {},
   "outputs": [
    {
     "name": "stdout",
     "output_type": "stream",
     "text": [
      "Enter Two Integer : 3 8\n",
      "3 4 5 6 7 8 "
     ]
    }
   ],
   "source": [
    "a, b = input(\"Enter Two Integer : \").split()\n",
    "a, b = int(a), int(b)\n",
    "\n",
    "if 1 <= a <=b <= 100 :\n",
    "    for i in range(a, b+1) :\n",
    "        print(i, end=\" \")"
   ]
  },
  {
   "cell_type": "markdown",
   "id": "15a9c63a",
   "metadata": {},
   "source": [
    "# 68"
   ]
  },
  {
   "cell_type": "code",
   "execution_count": 433,
   "id": "57aec984",
   "metadata": {},
   "outputs": [
    {
     "name": "stdout",
     "output_type": "stream",
     "text": [
      "Enter Two Integer : 3 8\n",
      "8 7 6 5 4 3 "
     ]
    }
   ],
   "source": [
    "a, b = input(\"Enter Two Integer : \").split()\n",
    "a, b = int(a), int(b)\n",
    "\n",
    "if 1 <= a <=b <= 100 :\n",
    "    for i in range(b, a - 1, -1) :\n",
    "        print(i, end=\" \")"
   ]
  },
  {
   "cell_type": "markdown",
   "id": "45343b01",
   "metadata": {},
   "source": [
    "# 69"
   ]
  },
  {
   "cell_type": "code",
   "execution_count": 76,
   "id": "82ff826f",
   "metadata": {},
   "outputs": [
    {
     "name": "stdout",
     "output_type": "stream",
     "text": [
      "10\n",
      "220\n"
     ]
    }
   ],
   "source": [
    "n = None\n",
    "while True :\n",
    "    n = int(input())\n",
    "    if 1 <= n <= 100 :\n",
    "        \n",
    "        break"
   ]
  },
  {
   "cell_type": "markdown",
   "id": "d50fcc77",
   "metadata": {},
   "source": [
    "# 70"
   ]
  },
  {
   "cell_type": "code",
   "execution_count": 493,
   "id": "1c76aab9",
   "metadata": {},
   "outputs": [
    {
     "name": "stdout",
     "output_type": "stream",
     "text": [
      "100\n",
      "5050\n"
     ]
    }
   ],
   "source": [
    "n = int(input())\n",
    "\n",
    "print(sum(range(0,n+1)))"
   ]
  },
  {
   "cell_type": "markdown",
   "id": "c3dc8719",
   "metadata": {},
   "source": [
    "# 71"
   ]
  },
  {
   "cell_type": "code",
   "execution_count": 78,
   "id": "fde441d4",
   "metadata": {},
   "outputs": [
    {
     "name": "stdout",
     "output_type": "stream",
     "text": [
      "51 100\n",
      "3775\n"
     ]
    }
   ],
   "source": [
    "a, b = input().split()\n",
    "a, b = int(a), int(b)\n",
    "\n",
    "while 1 <= a <= b <= 100 :\n",
    "    print(sum(range(a, b + 1)))\n",
    "    break"
   ]
  },
  {
   "cell_type": "markdown",
   "id": "172711fa",
   "metadata": {},
   "source": [
    "# 72"
   ]
  },
  {
   "cell_type": "code",
   "execution_count": 4,
   "id": "efb29d93",
   "metadata": {},
   "outputs": [
    {
     "name": "stdout",
     "output_type": "stream",
     "text": [
      "11\n",
      "1 3 5 7 9 11 "
     ]
    }
   ],
   "source": [
    "n = int(input())\n",
    "\n",
    "for i in range(1, n + 1, 2) :\n",
    "    print(i, end = \" \")"
   ]
  },
  {
   "cell_type": "markdown",
   "id": "159423b4",
   "metadata": {},
   "source": [
    "# 73"
   ]
  },
  {
   "cell_type": "code",
   "execution_count": 1,
   "id": "47603920",
   "metadata": {},
   "outputs": [
    {
     "name": "stdout",
     "output_type": "stream",
     "text": [
      "12\n",
      "6\n"
     ]
    }
   ],
   "source": [
    "n = int(input())\n",
    "\n",
    "while 1 <= n <= 100 :\n",
    "    print(n // 2)\n",
    "    break\n"
   ]
  },
  {
   "cell_type": "markdown",
   "id": "ef96c8d1",
   "metadata": {},
   "source": [
    "# 74"
   ]
  },
  {
   "cell_type": "code",
   "execution_count": 17,
   "id": "a593b8d9",
   "metadata": {},
   "outputs": [
    {
     "name": "stdout",
     "output_type": "stream",
     "text": [
      "10\n",
      "23\n"
     ]
    }
   ],
   "source": [
    "n = int(input())\n",
    "s = 0\n",
    "while 1 <= n <= 100 :\n",
    "    for i in range(n + 1) :\n",
    "        if (i % 3 == 0 or i % 5 == 0) and i < 10:\n",
    "            s += i\n",
    "    print(s)\n",
    "    break"
   ]
  },
  {
   "cell_type": "markdown",
   "id": "2e3345c1",
   "metadata": {},
   "source": [
    "# 75"
   ]
  },
  {
   "cell_type": "code",
   "execution_count": 18,
   "id": "27da39b6",
   "metadata": {},
   "outputs": [
    {
     "name": "stdout",
     "output_type": "stream",
     "text": [
      "12\n",
      "28\n"
     ]
    }
   ],
   "source": [
    "n = int(input())\n",
    "s=0\n",
    "while 1 <= n < 1000000 :\n",
    "    for i in range(1, n + 1) :\n",
    "        if n % i == 0 :\n",
    "            s += i\n",
    "    print(s)\n",
    "    break"
   ]
  },
  {
   "cell_type": "markdown",
   "id": "4ae0a9f3",
   "metadata": {},
   "source": [
    "# 76"
   ]
  },
  {
   "cell_type": "code",
   "execution_count": 3,
   "id": "0ce2d2ab",
   "metadata": {},
   "outputs": [
    {
     "name": "stdout",
     "output_type": "stream",
     "text": [
      "10\n",
      "2\n"
     ]
    }
   ],
   "source": [
    "n = int(input())\n",
    "count = 0\n",
    "s = 0 \n",
    "for i in range(0, n + 1, 2) :\n",
    "    for j in range(0, n+1, 2) :\n",
    "        if i*j < n and i * j > s :\n",
    "            s = i * j\n",
    "            count += 1\n",
    "print(count)"
   ]
  },
  {
   "cell_type": "markdown",
   "id": "611811b1",
   "metadata": {},
   "source": [
    "# 77"
   ]
  },
  {
   "cell_type": "code",
   "execution_count": 84,
   "id": "4338c798",
   "metadata": {},
   "outputs": [
    {
     "name": "stdout",
     "output_type": "stream",
     "text": [
      "10\n",
      "DEFICIENT\n"
     ]
    }
   ],
   "source": [
    "n = int(input())\n",
    "count = 0\n",
    "for i in range(1,n):\n",
    "    if n % i == 0:\n",
    "        count += i\n",
    "if count == n:\n",
    "    print(\"PERFECT\")\n",
    "elif count < n:\n",
    "    print(\"DEFICIENT\")\n",
    "else:\n",
    "    print(\"ABUNDANT\")"
   ]
  },
  {
   "cell_type": "markdown",
   "id": "9fd39691",
   "metadata": {},
   "source": [
    "# 78"
   ]
  },
  {
   "cell_type": "code",
   "execution_count": 85,
   "id": "d442c1e8",
   "metadata": {},
   "outputs": [
    {
     "name": "stdout",
     "output_type": "stream",
     "text": [
      "#\n",
      "##\n",
      "###\n",
      "####\n",
      "#####\n"
     ]
    }
   ],
   "source": [
    "for i in range(1, 6) :\n",
    "    print(\"#\" * i)"
   ]
  },
  {
   "cell_type": "markdown",
   "id": "b5b10b85",
   "metadata": {},
   "source": [
    "# 79"
   ]
  },
  {
   "cell_type": "code",
   "execution_count": 86,
   "id": "de1c0534",
   "metadata": {},
   "outputs": [
    {
     "name": "stdout",
     "output_type": "stream",
     "text": [
      "#####\n",
      "####\n",
      "###\n",
      "##\n",
      "#\n"
     ]
    }
   ],
   "source": [
    "for i in range(5, 0, -1) :\n",
    "    print(\"#\" * i)"
   ]
  },
  {
   "cell_type": "markdown",
   "id": "6335e77e",
   "metadata": {},
   "source": [
    "# 80"
   ]
  },
  {
   "cell_type": "code",
   "execution_count": 87,
   "id": "f6fdb368",
   "metadata": {},
   "outputs": [
    {
     "name": "stdout",
     "output_type": "stream",
     "text": [
      "    #\n",
      "   ##\n",
      "  ###\n",
      " ####\n",
      "#####\n"
     ]
    }
   ],
   "source": [
    "for i in range(1, 6) :\n",
    "    print(\"{:>5}\".format(\"#\" * i))"
   ]
  },
  {
   "cell_type": "markdown",
   "id": "ac2b668e",
   "metadata": {},
   "source": [
    "# 81"
   ]
  },
  {
   "cell_type": "code",
   "execution_count": 88,
   "id": "0aa17461",
   "metadata": {},
   "outputs": [
    {
     "name": "stdout",
     "output_type": "stream",
     "text": [
      "#####\n",
      " ####\n",
      "  ###\n",
      "   ##\n",
      "    #\n"
     ]
    }
   ],
   "source": [
    "for i in range(5, 0, -1) :\n",
    "    print('{:>5}'.format(\"#\" * i))"
   ]
  },
  {
   "cell_type": "markdown",
   "id": "d4d35435",
   "metadata": {},
   "source": [
    "# 82"
   ]
  },
  {
   "cell_type": "code",
   "execution_count": 89,
   "id": "4a697769",
   "metadata": {},
   "outputs": [
    {
     "name": "stdout",
     "output_type": "stream",
     "text": [
      "    #\n",
      "   ###\n",
      "  #####\n",
      " #######\n",
      "#########\n"
     ]
    }
   ],
   "source": [
    "for i in range(1, 10, 2) :\n",
    "    print('{:^10}'.format(\"#\" * i))"
   ]
  },
  {
   "cell_type": "markdown",
   "id": "a613fe68",
   "metadata": {},
   "source": [
    "# 83"
   ]
  },
  {
   "cell_type": "code",
   "execution_count": 90,
   "id": "983478af",
   "metadata": {},
   "outputs": [
    {
     "name": "stdout",
     "output_type": "stream",
     "text": [
      "#########\n",
      " #######\n",
      "  #####\n",
      "   ###\n",
      "    #\n"
     ]
    }
   ],
   "source": [
    "for i in range(9, 0, -2) :\n",
    "    print('{:^9}'.format(\"#\" * i))"
   ]
  },
  {
   "cell_type": "markdown",
   "id": "bc3e77c3",
   "metadata": {},
   "source": [
    "# 84"
   ]
  },
  {
   "cell_type": "code",
   "execution_count": 91,
   "id": "394147b3",
   "metadata": {},
   "outputs": [
    {
     "name": "stdout",
     "output_type": "stream",
     "text": [
      "20\n",
      "1 1 3\n",
      "2 2 2\n",
      "3 3 1\n",
      "6 1 1\n",
      "4\n"
     ]
    }
   ],
   "source": [
    "n = int(input())\n",
    "\n",
    "for i in range(n+1) :\n",
    "    for j in range"
   ]
  },
  {
   "cell_type": "markdown",
   "id": "e9c29551",
   "metadata": {},
   "source": [
    "# 85"
   ]
  },
  {
   "cell_type": "code",
   "execution_count": 92,
   "id": "0924364a",
   "metadata": {},
   "outputs": [
    {
     "name": "stdout",
     "output_type": "stream",
     "text": [
      "5\n",
      "1       1\n",
      "12     21\n",
      "123   321\n",
      "1234 4321\n",
      "123454321\n",
      "1234 4321\n",
      "123   321\n",
      "12     21\n",
      "1       1\n"
     ]
    }
   ],
   "source": []
  },
  {
   "cell_type": "markdown",
   "id": "da9a71a3",
   "metadata": {},
   "source": [
    "# 86"
   ]
  },
  {
   "cell_type": "code",
   "execution_count": 93,
   "id": "501bf9f8",
   "metadata": {},
   "outputs": [
    {
     "name": "stdout",
     "output_type": "stream",
     "text": [
      "1250\n",
      "8750\n",
      "7500\n",
      "6250\n",
      "5000\n",
      "3750\n",
      "2500\n",
      "1250\n",
      "0\n",
      "8\n"
     ]
    }
   ],
   "source": [
    "n = int(input())\n",
    "card = 10000\n",
    "count = 1\n",
    "if 1 <= n <= 10000:\n",
    "    while card >= n:\n",
    "        print(card - n)\n",
    "        card = card - n\n",
    "        count += 1      "
   ]
  },
  {
   "cell_type": "markdown",
   "id": "58364bf0",
   "metadata": {},
   "source": [
    "# 87"
   ]
  },
  {
   "cell_type": "code",
   "execution_count": 19,
   "id": "911c72bf",
   "metadata": {},
   "outputs": [
    {
     "name": "stdout",
     "output_type": "stream",
     "text": [
      "150 50 1000 100\n",
      "450\n"
     ]
    }
   ],
   "source": [
    "a, b, c, d = input().split()\n",
    "a, b, c, d = int(a), int(b), int(c), int(d) \n",
    "\n",
    "if a <= 10000 and b <= 10000 and c <= 10000 and d <= 10000 :\n",
    "    while True :\n",
    "        if a == c or a > c :\n",
    "            print(a)\n",
    "            break\n",
    "        else :\n",
    "            a += b\n",
    "            c -= d"
   ]
  },
  {
   "cell_type": "markdown",
   "id": "0e422664",
   "metadata": {},
   "source": [
    "# 88"
   ]
  },
  {
   "cell_type": "code",
   "execution_count": 25,
   "id": "e1e67747",
   "metadata": {},
   "outputs": [
    {
     "name": "stdout",
     "output_type": "stream",
     "text": [
      "10 3\n",
      "14\n"
     ]
    }
   ],
   "source": [
    "n, k = input().split()\n",
    "n, k = int(n), int(k)\n",
    "empty = 0\n",
    "\n",
    "if n >= 1 and k > 1 :\n",
    "    if n > k :\n",
    "        n += (n // k)\n",
    "        empty += n // k \n",
    "        if empty >= k :\n",
    "            n += empty // k \n",
    "    else :\n",
    "        n = n\n",
    "    print(n)\n",
    "    "
   ]
  },
  {
   "cell_type": "markdown",
   "id": "41bd860d",
   "metadata": {},
   "source": [
    "# 89"
   ]
  },
  {
   "cell_type": "code",
   "execution_count": 33,
   "id": "9962ba28",
   "metadata": {},
   "outputs": [
    {
     "name": "stdout",
     "output_type": "stream",
     "text": [
      "10\n",
      "30\n"
     ]
    }
   ],
   "source": [
    "n = int(input())\n",
    "c = 0 \n",
    "\n",
    "if 1 <= n <= 10000 :\n",
    "    for i in range(1, n + 1) :\n",
    "        if i == 1 :\n",
    "            c += 1\n",
    "        elif 1 < i <= 3 :\n",
    "            c += 2\n",
    "        elif 3 < i <= 6 :\n",
    "            c += 3\n",
    "        else :\n",
    "            c += 4\n",
    "    print(c)"
   ]
  },
  {
   "cell_type": "markdown",
   "id": "75777cb1",
   "metadata": {},
   "source": [
    "# 90"
   ]
  },
  {
   "cell_type": "code",
   "execution_count": 97,
   "id": "77037927",
   "metadata": {},
   "outputs": [
    {
     "name": "stdout",
     "output_type": "stream",
     "text": [
      "4\n",
      "30\n"
     ]
    }
   ],
   "source": [
    "n = int(input())\n",
    "sq = 0\n",
    "while n > 0:\n",
    "    sq = sq +(n**2)\n",
    "    n -= 1\n",
    "print(sq)"
   ]
  },
  {
   "cell_type": "markdown",
   "id": "f7f08ab7",
   "metadata": {},
   "source": [
    "# 91"
   ]
  },
  {
   "cell_type": "code",
   "execution_count": 98,
   "id": "ebb9e972",
   "metadata": {},
   "outputs": [
    {
     "name": "stdout",
     "output_type": "stream",
     "text": [
      "3\n",
      "14\n"
     ]
    }
   ],
   "source": [
    "n = int(input())\n",
    "a = []\n",
    "num = 0\n",
    "for i in range(n):\n",
    "    num=num+((2*i)+1)\n",
    "    a.append(num)\n",
    "print(sum(a))\n"
   ]
  },
  {
   "cell_type": "markdown",
   "id": "a6d44fad",
   "metadata": {},
   "source": [
    "# 92"
   ]
  },
  {
   "cell_type": "code",
   "execution_count": 100,
   "id": "7e749ed5",
   "metadata": {},
   "outputs": [
    {
     "name": "stdout",
     "output_type": "stream",
     "text": [
      "50 60\n",
      "-1\n"
     ]
    }
   ],
   "source": []
  },
  {
   "cell_type": "markdown",
   "id": "48d1c9b9",
   "metadata": {},
   "source": [
    "# 93"
   ]
  },
  {
   "cell_type": "code",
   "execution_count": 101,
   "id": "31a6c42d",
   "metadata": {},
   "outputs": [
    {
     "name": "stdout",
     "output_type": "stream",
     "text": [
      "5\n",
      "2\n"
     ]
    }
   ],
   "source": []
  },
  {
   "cell_type": "markdown",
   "id": "0a2822f3",
   "metadata": {},
   "source": [
    "# 94"
   ]
  },
  {
   "cell_type": "code",
   "execution_count": 102,
   "id": "aa51272b",
   "metadata": {},
   "outputs": [
    {
     "name": "stdout",
     "output_type": "stream",
     "text": [
      "25\n",
      "5\n"
     ]
    }
   ],
   "source": []
  },
  {
   "cell_type": "markdown",
   "id": "27032b42",
   "metadata": {},
   "source": [
    "# 95"
   ]
  },
  {
   "cell_type": "code",
   "execution_count": 103,
   "id": "dedc66b7",
   "metadata": {},
   "outputs": [
    {
     "name": "stdout",
     "output_type": "stream",
     "text": [
      "120\n",
      "Normal Number\n"
     ]
    }
   ],
   "source": [
    "n = int(input())\n",
    "if len(num) < 3 :\n",
    "    print(\"Palidrome\")\n",
    "else :\n",
    "    i = 1 \n",
    "    check = 1 \n",
    "    while <= int(len(num) / 2) :\n",
    "        if str(num)[i - 1] != str(num)[-i] :\n",
    "            check = 0\n",
    "            break\n",
    "        i += 1\n",
    "    if check == 0 :\n",
    "        print(\"Not Palidrome\")\n",
    "    else :\n",
    "        print(\"Palidrome\")"
   ]
  },
  {
   "cell_type": "markdown",
   "id": "661572ab",
   "metadata": {},
   "source": [
    "# 96"
   ]
  },
  {
   "cell_type": "code",
   "execution_count": 104,
   "id": "dff807e3",
   "metadata": {},
   "outputs": [
    {
     "name": "stdout",
     "output_type": "stream",
     "text": [
      "2 3 5 7 11 \n",
      "13 17 19 23 29 \n",
      "31 37 41 43 47 \n",
      "53 59 61 67 71 \n",
      "73 79 83 89 97 \n"
     ]
    }
   ],
   "source": []
  },
  {
   "cell_type": "markdown",
   "id": "5030a1ad",
   "metadata": {},
   "source": [
    "# 97"
   ]
  },
  {
   "cell_type": "code",
   "execution_count": 105,
   "id": "8e30ca8a",
   "metadata": {},
   "outputs": [
    {
     "name": "stdout",
     "output_type": "stream",
     "text": [
      "2 4 6 8 10 12 14 \n",
      "56\n"
     ]
    }
   ],
   "source": []
  },
  {
   "cell_type": "markdown",
   "id": "f3627f86",
   "metadata": {},
   "source": [
    "# 98"
   ]
  },
  {
   "cell_type": "code",
   "execution_count": 106,
   "id": "70e035f6",
   "metadata": {},
   "outputs": [
    {
     "name": "stdout",
     "output_type": "stream",
     "text": [
      "1 2\n",
      "2 3\n",
      "3 4\n",
      "4 5\n",
      "0 0\n",
      "9\n"
     ]
    }
   ],
   "source": []
  },
  {
   "cell_type": "markdown",
   "id": "ccd9a577",
   "metadata": {},
   "source": [
    "# 99"
   ]
  },
  {
   "cell_type": "code",
   "execution_count": 107,
   "id": "cf96d096",
   "metadata": {},
   "outputs": [
    {
     "name": "stdout",
     "output_type": "stream",
     "text": [
      "1 5 7 11 13 17 19 23 25 29 \n",
      "31 35 37 41 43 47 49 53 55 59 \n",
      "61 65 67 71 73 77 79 83 85 89 \n",
      "91 95 97 "
     ]
    }
   ],
   "source": []
  },
  {
   "cell_type": "markdown",
   "id": "f25dba3c",
   "metadata": {},
   "source": [
    "# 100"
   ]
  },
  {
   "cell_type": "code",
   "execution_count": 108,
   "id": "93ee88d1",
   "metadata": {},
   "outputs": [
    {
     "name": "stdout",
     "output_type": "stream",
     "text": [
      "5 3\n",
      "6 2\n",
      "7 2\n",
      "5 3\n",
      "5 4\n",
      "0 4\n",
      "0 6\n",
      "0 0\n",
      "3\n"
     ]
    }
   ],
   "source": []
  },
  {
   "cell_type": "markdown",
   "id": "4f629f0b",
   "metadata": {},
   "source": [
    "# 101"
   ]
  },
  {
   "cell_type": "code",
   "execution_count": 109,
   "id": "04cceac1",
   "metadata": {},
   "outputs": [
    {
     "name": "stdout",
     "output_type": "stream",
     "text": [
      "70\n"
     ]
    }
   ],
   "source": [
    "l = [4, 7, 6, 8, 11, -3, 8, 11, 5, 13]\n",
    "print(sum(l))"
   ]
  },
  {
   "cell_type": "markdown",
   "id": "cb2e683e",
   "metadata": {},
   "source": [
    "# 102"
   ]
  },
  {
   "cell_type": "code",
   "execution_count": 110,
   "id": "a7da8d78",
   "metadata": {},
   "outputs": [
    {
     "name": "stdout",
     "output_type": "stream",
     "text": [
      "20\n"
     ]
    }
   ],
   "source": [
    "l1 = [5, 7, 13, 11, 6, 10, 45, 11, 4, 9]\n",
    "l2 = []\n",
    "for i in l1:\n",
    "    if i % 2 == 0:\n",
    "        l2.append(i)\n",
    "print(sum(l2))"
   ]
  },
  {
   "cell_type": "markdown",
   "id": "837f6947",
   "metadata": {},
   "source": [
    "# 103"
   ]
  },
  {
   "cell_type": "code",
   "execution_count": 1,
   "id": "85da4282",
   "metadata": {},
   "outputs": [
    {
     "name": "stdout",
     "output_type": "stream",
     "text": [
      "2 1 2 1 2 1\n",
      "-1 0 0 1 0 7 "
     ]
    }
   ],
   "source": []
  },
  {
   "cell_type": "markdown",
   "id": "da7e5b1e",
   "metadata": {},
   "source": [
    "# 104"
   ]
  },
  {
   "cell_type": "code",
   "execution_count": 117,
   "id": "24aac15e",
   "metadata": {},
   "outputs": [
    {
     "name": "stdout",
     "output_type": "stream",
     "text": [
      "123 234 345\n",
      "1\n",
      "0\n",
      "1\n",
      "0\n",
      "0\n",
      "0\n",
      "0\n",
      "1\n",
      "0\n",
      "4\n"
     ]
    }
   ],
   "source": []
  },
  {
   "cell_type": "markdown",
   "id": "1f0a21cf",
   "metadata": {},
   "source": [
    "# 105"
   ]
  },
  {
   "cell_type": "code",
   "execution_count": 118,
   "id": "63fbc758",
   "metadata": {},
   "outputs": [
    {
     "name": "stdout",
     "output_type": "stream",
     "text": [
      "2500\n"
     ]
    }
   ],
   "source": [
    "tup = sum(range(1, 100, 2))\n",
    "print(tup)"
   ]
  },
  {
   "cell_type": "markdown",
   "id": "76669ec0",
   "metadata": {},
   "source": [
    "# 106"
   ]
  },
  {
   "cell_type": "code",
   "execution_count": 119,
   "id": "c0c97a43",
   "metadata": {},
   "outputs": [
    {
     "name": "stdout",
     "output_type": "stream",
     "text": [
      "[2, 3, 4, 5, 6, 7, 8, 9, 10, 1]\n"
     ]
    }
   ],
   "source": [
    "l = [1, 2, 3, 4, 5, 6, 7, 8, 9, 10]\n",
    "print(l)"
   ]
  },
  {
   "cell_type": "markdown",
   "id": "fc08fe2f",
   "metadata": {},
   "source": [
    "# 107"
   ]
  },
  {
   "cell_type": "code",
   "execution_count": 120,
   "id": "753bbf7c",
   "metadata": {},
   "outputs": [
    {
     "name": "stdout",
     "output_type": "stream",
     "text": [
      "[10, 1, 2, 3, 4, 5, 6, 7, 8, 9]\n"
     ]
    }
   ],
   "source": []
  },
  {
   "cell_type": "markdown",
   "id": "054c0d25",
   "metadata": {},
   "source": [
    "# 108"
   ]
  },
  {
   "cell_type": "code",
   "execution_count": 2,
   "id": "eaf506a7",
   "metadata": {},
   "outputs": [
    {
     "name": "stdout",
     "output_type": "stream",
     "text": [
      "20211224\n",
      "2021Y 12M 24D\n"
     ]
    }
   ],
   "source": []
  },
  {
   "cell_type": "markdown",
   "id": "4b0d5535",
   "metadata": {},
   "source": [
    "# 109"
   ]
  },
  {
   "cell_type": "code",
   "execution_count": 3,
   "id": "fbb525c9",
   "metadata": {},
   "outputs": [
    {
     "name": "stdout",
     "output_type": "stream",
     "text": [
      "4 2\n",
      "0 0 0 0\n",
      "0\n"
     ]
    }
   ],
   "source": [
    "n, k = input().split()\n",
    "p = input().split()\n",
    "n, k = int(n), int(k)\n",
    "p = list(p)\n",
    "l = []\n",
    "if k < n and n in range(1, 50): \n",
    "    for i in range(len(p)):\n",
    "        p[i] = int(p[i])\n",
    "        if p[i] > 0 and p[i] >= k:\n",
    "            l.append(i)\n",
    "    print(len(l))\n"
   ]
  },
  {
   "cell_type": "markdown",
   "id": "da3f8836",
   "metadata": {},
   "source": [
    "# 110"
   ]
  },
  {
   "cell_type": "code",
   "execution_count": 4,
   "id": "1f677bf0",
   "metadata": {},
   "outputs": [
    {
     "name": "stdout",
     "output_type": "stream",
     "text": [
      "10\n",
      "3\n",
      "4\n",
      "6\n",
      "2\n",
      "28\n"
     ]
    }
   ],
   "source": []
  },
  {
   "cell_type": "markdown",
   "id": "bbe84a36",
   "metadata": {},
   "source": [
    "# 111"
   ]
  },
  {
   "cell_type": "code",
   "execution_count": 5,
   "id": "da4df274",
   "metadata": {},
   "outputs": [
    {
     "name": "stdout",
     "output_type": "stream",
     "text": [
      "6\n",
      "5 2 4 1 7 5\n",
      "5\n"
     ]
    }
   ],
   "source": []
  },
  {
   "cell_type": "markdown",
   "id": "7e170400",
   "metadata": {},
   "source": [
    "# 112"
   ]
  },
  {
   "cell_type": "code",
   "execution_count": 6,
   "id": "8292d996",
   "metadata": {},
   "outputs": [
    {
     "name": "stdout",
     "output_type": "stream",
     "text": [
      "5\n",
      "1 3 3 4 5\n",
      "1 5 3 7 9 "
     ]
    }
   ],
   "source": []
  },
  {
   "cell_type": "markdown",
   "id": "bc4cd327",
   "metadata": {},
   "source": [
    "# 113"
   ]
  },
  {
   "cell_type": "code",
   "execution_count": 7,
   "id": "c1671a92",
   "metadata": {},
   "outputs": [
    {
     "name": "stdout",
     "output_type": "stream",
     "text": [
      "1 4 3 2 9 7 18 22 0\n",
      "3\n"
     ]
    }
   ],
   "source": []
  },
  {
   "cell_type": "markdown",
   "id": "d0cc2e2d",
   "metadata": {},
   "source": [
    "# 114"
   ]
  },
  {
   "cell_type": "code",
   "execution_count": 8,
   "id": "6d6960c1",
   "metadata": {},
   "outputs": [
    {
     "name": "stdout",
     "output_type": "stream",
     "text": [
      "24 2\n",
      "1 1\n",
      "1 2\n",
      "2 1\n",
      "2 2\n",
      "3 1\n",
      "3 2\n",
      "4 1\n",
      "4 2\n",
      "6 1\n",
      "6 2\n",
      "8 1\n",
      "8 2\n",
      "12 1\n",
      "12 2\n",
      "24 1\n",
      "24 2\n"
     ]
    }
   ],
   "source": [
    "p, q = input().split()\n",
    "p, q = int(p), int(q)\n",
    "p1 = []\n",
    "q1 = []\n",
    "for i in range(1, p+1):\n",
    "    if p % i == 0:\n",
    "        p1.append(i)\n",
    "for j in range(1, q+1):\n",
    "    if q % j == 0:\n",
    "        q1.append(j)\n",
    "for i in range(len(p1)):\n",
    "    p1[i] = int(p1[i])\n",
    "for i in range(len(q1)):\n",
    "    q1[i] = int(q1[i])\n",
    "for i in p1:\n",
    "    for j in q1:\n",
    "        print(i,j)"
   ]
  },
  {
   "cell_type": "markdown",
   "id": "f84decb2",
   "metadata": {},
   "source": [
    "# 115"
   ]
  },
  {
   "cell_type": "code",
   "execution_count": 9,
   "id": "fec3d2bc",
   "metadata": {},
   "outputs": [
    {
     "name": "stdout",
     "output_type": "stream",
     "text": [
      "123 45\n",
      "54\n"
     ]
    }
   ],
   "source": []
  },
  {
   "cell_type": "markdown",
   "id": "07e45c11",
   "metadata": {},
   "source": [
    "# 116"
   ]
  },
  {
   "cell_type": "code",
   "execution_count": 10,
   "id": "5674ae51",
   "metadata": {},
   "outputs": [
    {
     "name": "stdout",
     "output_type": "stream",
     "text": [
      "77\n",
      "-99\n",
      "98\n"
     ]
    }
   ],
   "source": []
  },
  {
   "cell_type": "markdown",
   "id": "2b082f78",
   "metadata": {},
   "source": [
    "# 117"
   ]
  },
  {
   "cell_type": "code",
   "execution_count": 11,
   "id": "cf7647d9",
   "metadata": {},
   "outputs": [
    {
     "name": "stdout",
     "output_type": "stream",
     "text": [
      "10\n",
      "20\n",
      "30\n",
      "40\n",
      "50\n",
      "60\n",
      "70\n",
      "80\n",
      "90\n",
      "90\n",
      "9\n"
     ]
    }
   ],
   "source": []
  },
  {
   "cell_type": "markdown",
   "id": "b9ba696b",
   "metadata": {},
   "source": [
    "# 118"
   ]
  },
  {
   "cell_type": "code",
   "execution_count": 12,
   "id": "a85c5dcf",
   "metadata": {},
   "outputs": [
    {
     "name": "stdout",
     "output_type": "stream",
     "text": [
      "4 4 3 3\n",
      "5 4 3 5\n",
      "5 5 2 4\n",
      "5 5 5 1\n",
      "4 4 4 4\n",
      "2 17\n"
     ]
    }
   ],
   "source": []
  },
  {
   "cell_type": "markdown",
   "id": "709d72d9",
   "metadata": {},
   "source": [
    "# 119"
   ]
  },
  {
   "cell_type": "code",
   "execution_count": 13,
   "id": "2862801e",
   "metadata": {},
   "outputs": [
    {
     "name": "stdout",
     "output_type": "stream",
     "text": [
      "5\n",
      "512\n",
      "532\n",
      "532\n",
      "585\n",
      "599\n",
      "532\n"
     ]
    }
   ],
   "source": []
  },
  {
   "cell_type": "markdown",
   "id": "958804b1",
   "metadata": {},
   "source": [
    "# 120"
   ]
  },
  {
   "cell_type": "code",
   "execution_count": 14,
   "id": "d0a11526",
   "metadata": {},
   "outputs": [
    {
     "name": "stdout",
     "output_type": "stream",
     "text": [
      "3\n",
      "3\n",
      "2 -1 1\n",
      "9\n"
     ]
    }
   ],
   "source": []
  },
  {
   "cell_type": "markdown",
   "id": "16509d22",
   "metadata": {},
   "source": [
    "# 121"
   ]
  },
  {
   "cell_type": "code",
   "execution_count": 15,
   "id": "6df311ae",
   "metadata": {},
   "outputs": [
    {
     "name": "stdout",
     "output_type": "stream",
     "text": [
      "3 2 3\n",
      "5\n"
     ]
    }
   ],
   "source": []
  },
  {
   "cell_type": "markdown",
   "id": "c0b29afa",
   "metadata": {},
   "source": [
    "# 122"
   ]
  },
  {
   "cell_type": "code",
   "execution_count": 16,
   "id": "427706e2",
   "metadata": {},
   "outputs": [
    {
     "name": "stdout",
     "output_type": "stream",
     "text": [
      "100\n",
      "3\n",
      "5 75 25\n",
      "2 3\n"
     ]
    }
   ],
   "source": []
  },
  {
   "cell_type": "markdown",
   "id": "74997182",
   "metadata": {},
   "source": [
    "# 123"
   ]
  },
  {
   "cell_type": "code",
   "execution_count": 17,
   "id": "68d17ae9",
   "metadata": {},
   "outputs": [
    {
     "name": "stdout",
     "output_type": "stream",
     "text": [
      "2\n",
      "60 1\n",
      "30 5\n",
      "180\n"
     ]
    }
   ],
   "source": []
  },
  {
   "cell_type": "markdown",
   "id": "3f4f815b",
   "metadata": {},
   "source": [
    "# 124"
   ]
  },
  {
   "cell_type": "code",
   "execution_count": 35,
   "id": "07778bb5",
   "metadata": {
    "scrolled": false
   },
   "outputs": [
    {
     "name": "stdout",
     "output_type": "stream",
     "text": [
      "3\n",
      "1\n",
      "4\n",
      "5\n",
      "7\n",
      "9\n",
      "6\n",
      "10\n",
      "11\n",
      "12\n",
      "13\n",
      "14\n",
      "15\n",
      "16\n",
      "17\n",
      "18\n",
      "19\n",
      "20\n",
      "21\n",
      "22\n",
      "23\n",
      "24\n",
      "25\n",
      "26\n",
      "27\n",
      "28\n",
      "29\n",
      "30\n",
      "2\n",
      "8\n"
     ]
    }
   ],
   "source": [
    "l1 = []\n",
    "i = 1\n",
    "while i < 29 :\n",
    "    n = int(input())\n",
    "    l1.append(n)\n",
    "    i = i + 1 \n",
    "for i in range(1, 31) :\n",
    "    if i not in l1 :\n",
    "        print(i)"
   ]
  },
  {
   "cell_type": "markdown",
   "id": "7ccf6ae2",
   "metadata": {},
   "source": [
    "# 125"
   ]
  },
  {
   "cell_type": "code",
   "execution_count": 19,
   "id": "761922bc",
   "metadata": {},
   "outputs": [
    {
     "name": "stdout",
     "output_type": "stream",
     "text": [
      "42\n",
      "84\n",
      "252\n",
      "420\n",
      "840\n",
      "126\n",
      "42\n",
      "84\n",
      "420\n",
      "126\n",
      "1\n"
     ]
    }
   ],
   "source": []
  },
  {
   "cell_type": "markdown",
   "id": "187ef710",
   "metadata": {},
   "source": [
    "# 126"
   ]
  },
  {
   "cell_type": "code",
   "execution_count": 20,
   "id": "b087c2a3",
   "metadata": {},
   "outputs": [
    {
     "name": "stdout",
     "output_type": "stream",
     "text": [
      "30 3\n",
      "1 3\n",
      "3 7\n",
      "1 4\n",
      "13\n"
     ]
    }
   ],
   "source": []
  },
  {
   "cell_type": "markdown",
   "id": "6b78fd03",
   "metadata": {},
   "source": [
    "# 127"
   ]
  },
  {
   "cell_type": "code",
   "execution_count": 21,
   "id": "9e9eac0e",
   "metadata": {},
   "outputs": [
    {
     "name": "stdout",
     "output_type": "stream",
     "text": [
      "4 5\n",
      "0 1 2\n",
      "0 2 4\n",
      "1 2 3\n",
      "1\n",
      "0 2 4\n",
      "1 1 4\n",
      "2\n"
     ]
    }
   ],
   "source": []
  },
  {
   "cell_type": "markdown",
   "id": "66316569",
   "metadata": {},
   "source": [
    "# 128"
   ]
  },
  {
   "cell_type": "code",
   "execution_count": 22,
   "id": "b50355ed",
   "metadata": {},
   "outputs": [
    {
     "name": "stdout",
     "output_type": "stream",
     "text": [
      "13\n",
      "2\n",
      "10\n",
      "1\n",
      "2\n",
      "1\n"
     ]
    }
   ],
   "source": [
    "n = int(input())\n",
    "m = int(input())\n",
    "k = int(input())\n",
    "check = [0] * (n + 1)\n",
    "\n",
    "for _ in range(m) :\n",
    "    x = int(input())\n",
    "    for j in range(x - k, x + k + 1) :\n",
    "        if 1 <= j <= n :\n",
    "            check[j] = 1\n",
    "            \n",
    "count = 0\n",
    "for i in range(1, n + 1) :\n",
    "    if check[i] == 0 :\n",
    "        count += 1\n",
    "        for j in range(i, min(i + k * 2, n) + 1) : \n",
    "            check[j] = 1\n",
    "print(count)"
   ]
  },
  {
   "cell_type": "markdown",
   "id": "91369459",
   "metadata": {},
   "source": [
    "# 129"
   ]
  },
  {
   "cell_type": "code",
   "execution_count": 23,
   "id": "a42ec326",
   "metadata": {},
   "outputs": [
    {
     "name": "stdout",
     "output_type": "stream",
     "text": [
      "5 2\n",
      "1 2\n",
      "4 5\n",
      "2\n"
     ]
    }
   ],
   "source": []
  },
  {
   "cell_type": "markdown",
   "id": "af2b1528",
   "metadata": {},
   "source": [
    "# 130"
   ]
  },
  {
   "cell_type": "code",
   "execution_count": 25,
   "id": "e9c1b63e",
   "metadata": {},
   "outputs": [
    {
     "name": "stdout",
     "output_type": "stream",
     "text": [
      "10 8 6\n",
      "15 30\n",
      "25 50\n",
      "70 80\n",
      "480\n"
     ]
    }
   ],
   "source": []
  },
  {
   "cell_type": "markdown",
   "id": "ffa55afd",
   "metadata": {},
   "source": [
    "# 131"
   ]
  },
  {
   "cell_type": "code",
   "execution_count": 26,
   "id": "1f86d41f",
   "metadata": {},
   "outputs": [
    {
     "name": "stdout",
     "output_type": "stream",
     "text": [
      "3\n",
      "5 9\n",
      "1 10\n",
      "3 8\n",
      "350\n",
      "550\n",
      "330\n"
     ]
    }
   ],
   "source": []
  },
  {
   "cell_type": "markdown",
   "id": "99cb710d",
   "metadata": {},
   "source": [
    "# 132"
   ]
  },
  {
   "cell_type": "code",
   "execution_count": 27,
   "id": "ad4836ee",
   "metadata": {},
   "outputs": [
    {
     "name": "stdout",
     "output_type": "stream",
     "text": [
      "4 2\n",
      "5\n",
      "8\n",
      "12\n",
      "6\n",
      "1 3\n",
      "2 4\n",
      "25\n",
      "26\n"
     ]
    }
   ],
   "source": []
  },
  {
   "cell_type": "markdown",
   "id": "2894b775",
   "metadata": {},
   "source": [
    "# 133"
   ]
  },
  {
   "cell_type": "code",
   "execution_count": 28,
   "id": "bae15f2f",
   "metadata": {},
   "outputs": [
    {
     "name": "stdout",
     "output_type": "stream",
     "text": [
      "5 3\n",
      "2\n",
      "5\n",
      "-4\n",
      "10\n",
      "3\n",
      "11\n"
     ]
    }
   ],
   "source": []
  },
  {
   "cell_type": "markdown",
   "id": "a676fe09",
   "metadata": {},
   "source": [
    "# 134"
   ]
  },
  {
   "cell_type": "code",
   "execution_count": 29,
   "id": "6eca9836",
   "metadata": {},
   "outputs": [
    {
     "name": "stdout",
     "output_type": "stream",
     "text": [
      "4\n",
      "+\n",
      "5\n",
      "*\n",
      "9\n",
      "81\n"
     ]
    }
   ],
   "source": []
  },
  {
   "cell_type": "markdown",
   "id": "ad85236f",
   "metadata": {},
   "source": [
    "# 135"
   ]
  },
  {
   "cell_type": "code",
   "execution_count": 30,
   "id": "48b4a2d9",
   "metadata": {},
   "outputs": [
    {
     "name": "stdout",
     "output_type": "stream",
     "text": [
      "13 5 3 2 1\n",
      "u\n",
      "f\n",
      "u\n",
      "d\n",
      "f\n",
      "3\n"
     ]
    }
   ],
   "source": []
  },
  {
   "cell_type": "markdown",
   "id": "203d52fe",
   "metadata": {},
   "source": [
    "# 136"
   ]
  },
  {
   "cell_type": "code",
   "execution_count": 31,
   "id": "e464f94e",
   "metadata": {},
   "outputs": [
    {
     "name": "stdout",
     "output_type": "stream",
     "text": [
      "1 3 3 1 1 1 7 7 7 7\n",
      "7\n",
      "4\n"
     ]
    }
   ],
   "source": []
  },
  {
   "cell_type": "markdown",
   "id": "7b16dd5d",
   "metadata": {},
   "source": [
    "# 137"
   ]
  },
  {
   "cell_type": "code",
   "execution_count": 32,
   "id": "da988e85",
   "metadata": {},
   "outputs": [
    {
     "name": "stdout",
     "output_type": "stream",
     "text": [
      "6\n",
      "1 0 0 1 1 1\n",
      "2\n"
     ]
    }
   ],
   "source": []
  },
  {
   "cell_type": "markdown",
   "id": "0c5528c9",
   "metadata": {},
   "source": [
    "# 138"
   ]
  },
  {
   "cell_type": "code",
   "execution_count": 33,
   "id": "8e7c1fa4",
   "metadata": {},
   "outputs": [
    {
     "name": "stdout",
     "output_type": "stream",
     "text": [
      "8 1 7 2 6 3 5 4\n",
      "mixed\n"
     ]
    }
   ],
   "source": []
  },
  {
   "cell_type": "markdown",
   "id": "40a7d7ca",
   "metadata": {},
   "source": [
    "# 139"
   ]
  },
  {
   "cell_type": "code",
   "execution_count": 34,
   "id": "4f3b4145",
   "metadata": {},
   "outputs": [
    {
     "name": "stdout",
     "output_type": "stream",
     "text": [
      "6\n",
      "C\n",
      "C\n",
      "P\n",
      "C\n",
      "Z\n",
      "Z\n",
      "5\n"
     ]
    }
   ],
   "source": []
  },
  {
   "cell_type": "markdown",
   "id": "00d3e469",
   "metadata": {},
   "source": [
    "# 140"
   ]
  },
  {
   "cell_type": "code",
   "execution_count": 35,
   "id": "c1dab4ff",
   "metadata": {},
   "outputs": [
    {
     "name": "stdout",
     "output_type": "stream",
     "text": [
      "7\n",
      "0 0\n",
      "1 0\n",
      "1 1\n",
      "0 0\n",
      "0 0\n",
      "0 0\n",
      "0 1\n",
      "6\n"
     ]
    }
   ],
   "source": []
  }
 ],
 "metadata": {
  "kernelspec": {
   "display_name": "Python 3 (ipykernel)",
   "language": "python",
   "name": "python3"
  },
  "language_info": {
   "codemirror_mode": {
    "name": "ipython",
    "version": 3
   },
   "file_extension": ".py",
   "mimetype": "text/x-python",
   "name": "python",
   "nbconvert_exporter": "python",
   "pygments_lexer": "ipython3",
   "version": "3.10.9"
  }
 },
 "nbformat": 4,
 "nbformat_minor": 5
}
