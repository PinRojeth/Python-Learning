{
 "cells": [
  {
   "cell_type": "code",
   "execution_count": 1,
   "id": "30e7e5fa",
   "metadata": {},
   "outputs": [
    {
     "name": "stdout",
     "output_type": "stream",
     "text": [
      "1\n",
      "4\n",
      "5\n",
      "20\n",
      "7\n",
      "8\n"
     ]
    }
   ],
   "source": [
    "import random\n",
    "\n",
    "num_random = []\n",
    "\n",
    "for i in range(1, 11) :\n",
    "    x = random.randrange(1, 11)\n",
    "    num_random.append(x)\n",
    "\n",
    "num_random = set(num_random)\n",
    "\n",
    "num_random.add(20)\n",
    "\n",
    "\n",
    "for j in num_random.copy() :\n",
    "    if j == 9 and 11 :\n",
    "        num_random.remove(9)\n",
    "    else :\n",
    "        print(j)\n"
   ]
  },
  {
   "cell_type": "code",
   "execution_count": 2,
   "id": "a06a97b6",
   "metadata": {},
   "outputs": [
    {
     "name": "stdout",
     "output_type": "stream",
     "text": [
      "{'pink'}\n",
      "{'black', 'gray', 'red', 'pink'}\n"
     ]
    }
   ],
   "source": [
    "Set_A = {\"green\", \"blue\", \"gray\", \"black\", \"red\"}\n",
    "Set_B = {\"green\", \"blue\", \"pink\"}\n",
    "\n",
    "print(Set_B - Set_A)\n",
    "print(Set_A ^ Set_B)\n"
   ]
  },
  {
   "cell_type": "code",
   "execution_count": 3,
   "id": "45c643ec",
   "metadata": {},
   "outputs": [
    {
     "name": "stdout",
     "output_type": "stream",
     "text": [
      "{'Green': 2, 'Red': 4, 'Blue': 1}\n"
     ]
    }
   ],
   "source": [
    "words = ['Red', 'Green', 'Red', 'Blue', 'Red', 'Red', 'Green']\n",
    "dic1 = {}\n",
    "w_set = set(words)\n",
    "\n",
    "for i in w_set :\n",
    "    dic1[i] = words.count(i)\n",
    "print(dic1)"
   ]
  },
  {
   "cell_type": "code",
   "execution_count": null,
   "id": "1067d079",
   "metadata": {},
   "outputs": [],
   "source": []
  }
 ],
 "metadata": {
  "kernelspec": {
   "display_name": "Python 3 (ipykernel)",
   "language": "python",
   "name": "python3"
  },
  "language_info": {
   "codemirror_mode": {
    "name": "ipython",
    "version": 3
   },
   "file_extension": ".py",
   "mimetype": "text/x-python",
   "name": "python",
   "nbconvert_exporter": "python",
   "pygments_lexer": "ipython3",
   "version": "3.10.9"
  }
 },
 "nbformat": 4,
 "nbformat_minor": 5
}
