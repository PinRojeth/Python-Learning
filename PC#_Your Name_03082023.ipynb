{
 "cells": [
  {
   "cell_type": "markdown",
   "id": "d50fcc77",
   "metadata": {},
   "source": [
    "# 70"
   ]
  },
  {
   "cell_type": "code",
   "execution_count": 531,
   "id": "1c76aab9",
   "metadata": {},
   "outputs": [
    {
     "name": "stdout",
     "output_type": "stream",
     "text": [
      "100\n",
      "5050\n"
     ]
    }
   ],
   "source": [
    "n = int(input())\n",
    "while 1 <= n <= 100 :\n",
    "    print(sum(range(1, n +1)))\n",
    "    break"
   ]
  },
  {
   "cell_type": "markdown",
   "id": "c3dc8719",
   "metadata": {},
   "source": [
    "# 71"
   ]
  },
  {
   "cell_type": "code",
   "execution_count": 532,
   "id": "fde441d4",
   "metadata": {},
   "outputs": [
    {
     "name": "stdout",
     "output_type": "stream",
     "text": [
      "51 100\n",
      "3775\n"
     ]
    }
   ],
   "source": [
    "a, b = input().split()\n",
    "a, b = int(a), int(b)\n",
    "\n",
    "while 1 <= a <= b <= 100 :\n",
    "    print(sum(range(a, b+1)))\n",
    "    break"
   ]
  },
  {
   "cell_type": "markdown",
   "id": "172711fa",
   "metadata": {},
   "source": [
    "# 72"
   ]
  },
  {
   "cell_type": "code",
   "execution_count": 533,
   "id": "efb29d93",
   "metadata": {},
   "outputs": [
    {
     "name": "stdout",
     "output_type": "stream",
     "text": [
      "11\n",
      "1 3 5 7 9 11 "
     ]
    }
   ],
   "source": [
    "n = int(input())\n",
    "if 1 <= n <= 100 :\n",
    "    for i in range(1, n+1, 2) :\n",
    "        print(i, end = \" \")"
   ]
  },
  {
   "cell_type": "markdown",
   "id": "159423b4",
   "metadata": {},
   "source": [
    "# 73"
   ]
  },
  {
   "cell_type": "code",
   "execution_count": 534,
   "id": "47603920",
   "metadata": {},
   "outputs": [
    {
     "name": "stdout",
     "output_type": "stream",
     "text": [
      "75\n",
      "37\n"
     ]
    }
   ],
   "source": [
    "n = int(input())\n",
    "\n",
    "while 1 <= n <= 100 :\n",
    "    print(n // 2)\n",
    "    break"
   ]
  },
  {
   "cell_type": "markdown",
   "id": "ef96c8d1",
   "metadata": {},
   "source": [
    "# 74"
   ]
  },
  {
   "cell_type": "code",
   "execution_count": 17,
   "id": "a593b8d9",
   "metadata": {},
   "outputs": [
    {
     "name": "stdout",
     "output_type": "stream",
     "text": [
      "10\n",
      "23\n"
     ]
    }
   ],
   "source": [
    "n = int(input())\n",
    "s = 0\n",
    "while 1 <= n <= 1000 :\n",
    "    for i in range(1, n+1) :\n",
    "        if i % 3 == 0 or i % 5 == 0 and i < 10:\n",
    "            s += i\n",
    "    print(s)\n",
    "    break"
   ]
  },
  {
   "cell_type": "markdown",
   "id": "2e3345c1",
   "metadata": {},
   "source": [
    "# 75"
   ]
  },
  {
   "cell_type": "code",
   "execution_count": 19,
   "id": "27da39b6",
   "metadata": {},
   "outputs": [
    {
     "name": "stdout",
     "output_type": "stream",
     "text": [
      "12\n",
      "28\n"
     ]
    }
   ],
   "source": [
    "n = int(input())\n",
    "s = 0\n",
    "while 1 <= n <= 1000000 :\n",
    "    for i in range(1, n+1) :\n",
    "        if n % i == 0:\n",
    "            s += i\n",
    "    print(s)\n",
    "    break"
   ]
  },
  {
   "cell_type": "markdown",
   "id": "4ae0a9f3",
   "metadata": {},
   "source": [
    "# 76"
   ]
  },
  {
   "cell_type": "code",
   "execution_count": 26,
   "id": "0ce2d2ab",
   "metadata": {},
   "outputs": [
    {
     "name": "stdout",
     "output_type": "stream",
     "text": [
      "10\n",
      "2\n"
     ]
    }
   ],
   "source": [
    "n = int(input())\n",
    "count = 0\n",
    "s = 0\n",
    "while 1 <= n <= 2000000000 :\n",
    "    for i in range(2, n + 1, 2) :\n",
    "        for j in range(2, n + 1, 2) :\n",
    "            if i * j < n and i * j > s :\n",
    "                s = i * j \n",
    "                count += 1\n",
    "    print(count)\n",
    "    break"
   ]
  },
  {
   "cell_type": "markdown",
   "id": "611811b1",
   "metadata": {},
   "source": [
    "# 77"
   ]
  },
  {
   "cell_type": "code",
   "execution_count": 29,
   "id": "4338c798",
   "metadata": {},
   "outputs": [
    {
     "name": "stdout",
     "output_type": "stream",
     "text": [
      "12\n",
      "ABUNDANT\n"
     ]
    }
   ],
   "source": [
    "n = int(input())\n",
    "count = 0\n",
    "for i in range(1,n):\n",
    "    if n % i == 0:\n",
    "        count += i\n",
    "if count == n:\n",
    "    print(\"PERFECT\")\n",
    "elif count < n:\n",
    "    print(\"DEFICIENT\")\n",
    "else:\n",
    "    print(\"ABUNDANT\")"
   ]
  },
  {
   "cell_type": "markdown",
   "id": "9fd39691",
   "metadata": {},
   "source": [
    "# 78"
   ]
  },
  {
   "cell_type": "code",
   "execution_count": 32,
   "id": "d442c1e8",
   "metadata": {},
   "outputs": [
    {
     "name": "stdout",
     "output_type": "stream",
     "text": [
      "#\n",
      "##\n",
      "###\n",
      "####\n",
      "#####\n"
     ]
    }
   ],
   "source": [
    "for i in range(1, 6) :\n",
    "    print(\"#\" * i)"
   ]
  },
  {
   "cell_type": "markdown",
   "id": "b5b10b85",
   "metadata": {},
   "source": [
    "# 79"
   ]
  },
  {
   "cell_type": "code",
   "execution_count": 34,
   "id": "de1c0534",
   "metadata": {},
   "outputs": [
    {
     "name": "stdout",
     "output_type": "stream",
     "text": [
      "#####\n",
      "####\n",
      "###\n",
      "##\n",
      "#\n"
     ]
    }
   ],
   "source": [
    "for i in range(5, 0, -1) :\n",
    "    print(\"#\" * i)"
   ]
  },
  {
   "cell_type": "markdown",
   "id": "6335e77e",
   "metadata": {},
   "source": [
    "# 80"
   ]
  },
  {
   "cell_type": "code",
   "execution_count": 35,
   "id": "f6fdb368",
   "metadata": {},
   "outputs": [
    {
     "name": "stdout",
     "output_type": "stream",
     "text": [
      "    #\n",
      "   ##\n",
      "  ###\n",
      " ####\n",
      "#####\n"
     ]
    }
   ],
   "source": [
    "for i in range(1, 6) :\n",
    "    print('{:>5}'.format(\"#\"*i))"
   ]
  },
  {
   "cell_type": "markdown",
   "id": "ac2b668e",
   "metadata": {},
   "source": [
    "# 81"
   ]
  },
  {
   "cell_type": "code",
   "execution_count": 37,
   "id": "0aa17461",
   "metadata": {},
   "outputs": [
    {
     "name": "stdout",
     "output_type": "stream",
     "text": [
      "#####\n",
      " ####\n",
      "  ###\n",
      "   ##\n",
      "    #\n"
     ]
    }
   ],
   "source": [
    "for i in range(5, 0, -1) :\n",
    "    print('{:>5}'.format(\"#\" * i))"
   ]
  },
  {
   "cell_type": "markdown",
   "id": "d4d35435",
   "metadata": {},
   "source": [
    "# 82"
   ]
  },
  {
   "cell_type": "code",
   "execution_count": 38,
   "id": "4a697769",
   "metadata": {},
   "outputs": [
    {
     "name": "stdout",
     "output_type": "stream",
     "text": [
      "    #     \n",
      "   ###    \n",
      "  #####   \n",
      " #######  \n",
      "######### \n"
     ]
    }
   ],
   "source": [
    "for i in range(1, 10, 2) :\n",
    "    print('{:^10}'.format(\"#\" * i))"
   ]
  },
  {
   "cell_type": "markdown",
   "id": "a613fe68",
   "metadata": {},
   "source": [
    "# 83"
   ]
  },
  {
   "cell_type": "code",
   "execution_count": 39,
   "id": "983478af",
   "metadata": {},
   "outputs": [
    {
     "name": "stdout",
     "output_type": "stream",
     "text": [
      "#########\n",
      " ####### \n",
      "  #####  \n",
      "   ###   \n",
      "    #    \n"
     ]
    }
   ],
   "source": [
    "for i in range(9, 0, -2) :\n",
    "    print('{:^9}'.format(\"#\" * i))"
   ]
  },
  {
   "cell_type": "markdown",
   "id": "bc3e77c3",
   "metadata": {},
   "source": [
    "# 84"
   ]
  },
  {
   "cell_type": "code",
   "execution_count": 86,
   "id": "394147b3",
   "metadata": {},
   "outputs": [
    {
     "name": "stdout",
     "output_type": "stream",
     "text": [
      "20\n"
     ]
    }
   ],
   "source": [
    "g = int(input()) \n",
    "l = []\n",
    "while 1 <= g <= 50 :\n",
    "    for i in range(1, 10) :\n",
    "        for j in rna\n",
    "\n",
    "    break"
   ]
  },
  {
   "cell_type": "markdown",
   "id": "e9c29551",
   "metadata": {},
   "source": [
    "# 85"
   ]
  },
  {
   "cell_type": "code",
   "execution_count": 510,
   "id": "0924364a",
   "metadata": {
    "scrolled": true
   },
   "outputs": [
    {
     "name": "stdout",
     "output_type": "stream",
     "text": [
      "5\n",
      "1       1\n",
      "12     21\n",
      "123   321\n",
      "1234 4321\n",
      "123454321\n",
      "1234 4321\n",
      "123   321\n",
      "12     21\n",
      "1       1\n"
     ]
    }
   ],
   "source": [
    "n = int(input())\n",
    "z = n + (n - 1)\n",
    "for i in range(1, n) :\n",
    "    for j in range(1, i + 1) :\n",
    "        print(j, end = \"\")\n",
    "    print(\" \" * (z - 2), end = \"\")\n",
    "    for j in range(i, 0, -1) :\n",
    "        print(j, end = \"\")\n",
    "    print(end=\"\\n\")\n",
    "    \n",
    "    z = z - 2\n",
    "    \n",
    "x = 0 \n",
    "for i in range(n, 0, -1) :\n",
    "    if x == 0 :    \n",
    "        for j in range(1, i + 1) :\n",
    "            print(j, end = \"\")\n",
    "        for j in range(i - 1, 0, -1) :\n",
    "            print(j, end = \"\")\n",
    "        print(end=\"\\n\")\n",
    "        x = 1\n",
    "    else :\n",
    "        for j in range(1, i + 1) :\n",
    "            print(j, end = \"\")\n",
    "        print(\" \" * x, end = \"\")\n",
    "        for j in range(i, 0, -1) :\n",
    "            print(j, end = \"\")\n",
    "        print(end=\"\\n\")\n",
    "        \n",
    "        x += 2\n",
    "    \n",
    "    \n",
    "    \n",
    "    \n",
    "    \n"
   ]
  },
  {
   "cell_type": "markdown",
   "id": "da9a71a3",
   "metadata": {},
   "source": [
    "# 86"
   ]
  },
  {
   "cell_type": "code",
   "execution_count": 530,
   "id": "501bf9f8",
   "metadata": {},
   "outputs": [
    {
     "name": "stdout",
     "output_type": "stream",
     "text": [
      "1250\n",
      "8750\n",
      "7500\n",
      "6250\n",
      "5000\n",
      "3750\n",
      "2500\n",
      "1250\n",
      "0\n"
     ]
    }
   ],
   "source": [
    "n = int(input())\n",
    "card = 10000\n",
    "count = 1\n",
    "if 1 <= n <= 10000:\n",
    "    while card >= n:\n",
    "        print(card - n)\n",
    "        card = card - n\n",
    "        count += 1\n",
    "        "
   ]
  },
  {
   "cell_type": "markdown",
   "id": "58364bf0",
   "metadata": {},
   "source": [
    "# 87"
   ]
  },
  {
   "cell_type": "code",
   "execution_count": 46,
   "id": "911c72bf",
   "metadata": {},
   "outputs": [
    {
     "name": "stdout",
     "output_type": "stream",
     "text": [
      "150 50 1000 100\n",
      "450\n"
     ]
    }
   ],
   "source": [
    "a, b, c, d = input().split()\n",
    "a, b, c, d = int(a), int(b), int(c), int(d) \n",
    "\n",
    "if a <= 10000 and b <= 10000 and c <= 10000 and d <= 10000 :\n",
    "    while True :\n",
    "        if a == c or a > c :\n",
    "            print(a)\n",
    "            break\n",
    "        else :\n",
    "            a += b\n",
    "            c -= d"
   ]
  },
  {
   "cell_type": "markdown",
   "id": "0e422664",
   "metadata": {},
   "source": [
    "# 88"
   ]
  },
  {
   "cell_type": "code",
   "execution_count": 165,
   "id": "e1e67747",
   "metadata": {},
   "outputs": [
    {
     "name": "stdout",
     "output_type": "stream",
     "text": [
      "4 3\n",
      "5\n"
     ]
    }
   ],
   "source": [
    "n, k = input().split()\n",
    "n, k = int(n), int(k)\n",
    "empty = 0\n",
    "\n",
    "if n >= 1 and k > 1 :\n",
    "    if n > k :\n",
    "        n += (n // k)\n",
    "        empty += n // k\n",
    "        if empty >= k :\n",
    "            n += empty // k\n",
    "    else :\n",
    "        n = n\n",
    "        \n",
    "    print(n)"
   ]
  },
  {
   "cell_type": "markdown",
   "id": "41bd860d",
   "metadata": {},
   "source": [
    "# 89"
   ]
  },
  {
   "cell_type": "code",
   "execution_count": 62,
   "id": "9962ba28",
   "metadata": {},
   "outputs": [
    {
     "name": "stdout",
     "output_type": "stream",
     "text": [
      "10\n",
      "30\n"
     ]
    }
   ],
   "source": [
    "n = int(input())\n",
    "c = 0 \n",
    "\n",
    "if 1 <= n <= 10000 :\n",
    "    for i in range(1, n + 1) :\n",
    "        if i == 1 :\n",
    "            c += 1\n",
    "        elif 1 < i <= 3 :\n",
    "            c += 2\n",
    "        elif 3 < i <= 6 :\n",
    "            c += 3\n",
    "        else :\n",
    "            c += 4\n",
    "    print(c)"
   ]
  },
  {
   "cell_type": "markdown",
   "id": "75777cb1",
   "metadata": {},
   "source": [
    "# 90"
   ]
  },
  {
   "cell_type": "code",
   "execution_count": 68,
   "id": "77037927",
   "metadata": {},
   "outputs": [
    {
     "name": "stdout",
     "output_type": "stream",
     "text": [
      "4\n",
      "30\n"
     ]
    }
   ],
   "source": [
    "n = int(input())\n",
    "sq = 0\n",
    "while n > 0:\n",
    "    sq = sq +(n**2)\n",
    "    n -= 1\n",
    "print(sq)"
   ]
  },
  {
   "cell_type": "markdown",
   "id": "f7f08ab7",
   "metadata": {},
   "source": [
    "# 91"
   ]
  },
  {
   "cell_type": "code",
   "execution_count": 69,
   "id": "ebb9e972",
   "metadata": {},
   "outputs": [
    {
     "name": "stdout",
     "output_type": "stream",
     "text": [
      "3\n",
      "14\n"
     ]
    }
   ],
   "source": [
    "n = int(input())\n",
    "a = []\n",
    "num = 0\n",
    "for i in range(n):\n",
    "    num=num+((2*i)+1)\n",
    "    a.append(num)\n",
    "print(sum(a))\n"
   ]
  },
  {
   "cell_type": "markdown",
   "id": "a6d44fad",
   "metadata": {},
   "source": [
    "# 92"
   ]
  },
  {
   "cell_type": "code",
   "execution_count": 100,
   "id": "7e749ed5",
   "metadata": {},
   "outputs": [
    {
     "name": "stdout",
     "output_type": "stream",
     "text": [
      "50 60\n",
      "-1\n"
     ]
    }
   ],
   "source": [
    "a, b = input().split()\n",
    "a, b = int(a), int(b) \n",
    "s = 0\n",
    "while 1 <= a <= b <= 10000 :\n",
    "    for i in range(a, b +1) :\n",
    "        "
   ]
  },
  {
   "cell_type": "markdown",
   "id": "48d1c9b9",
   "metadata": {},
   "source": [
    "# 93"
   ]
  },
  {
   "cell_type": "code",
   "execution_count": 101,
   "id": "31a6c42d",
   "metadata": {},
   "outputs": [
    {
     "name": "stdout",
     "output_type": "stream",
     "text": [
      "5\n",
      "2\n"
     ]
    }
   ],
   "source": []
  },
  {
   "cell_type": "markdown",
   "id": "0a2822f3",
   "metadata": {},
   "source": [
    "# 94"
   ]
  },
  {
   "cell_type": "code",
   "execution_count": 527,
   "id": "aa51272b",
   "metadata": {},
   "outputs": [
    {
     "name": "stdout",
     "output_type": "stream",
     "text": [
      "25\n",
      "4\n"
     ]
    }
   ],
   "source": [
    "from math import sqrt \n",
    "s = 0\n",
    "while True :\n",
    "    n = int(input())\n",
    "    if 1 <= n <= 2000000000 :\n",
    "        if sqrt(n).is_integer() :\n",
    "            break\n",
    "s1 = []\n",
    "n = int(sqrt(n))\n",
    "blue = 0\n",
    "for i in range (1, n) :\n",
    "    s = i + (i - 1)\n",
    "    s1.append(s)\n",
    "tile = s1[:n]\n",
    "redtile = sum(tile[1:n:2])\n",
    "bluetile = sum(tile[0: n + 1 : 2])\n",
    "if redtile > bluetile :\n",
    "    print(redtile - bluetile)\n",
    "elif bluetile > redtile :\n",
    "    print(bluetile - redtile)\n",
    "else :\n",
    "    print(\"0\")"
   ]
  },
  {
   "cell_type": "markdown",
   "id": "27032b42",
   "metadata": {},
   "source": [
    "# 95"
   ]
  },
  {
   "cell_type": "code",
   "execution_count": 524,
   "id": "dedc66b7",
   "metadata": {},
   "outputs": [
    {
     "name": "stdout",
     "output_type": "stream",
     "text": [
      "5\n",
      "Palidrome Number\n"
     ]
    }
   ],
   "source": [
    "n = input()\n",
    "if len(n) < 2 :\n",
    "    print(\"Palidrome Number\")\n",
    "else :\n",
    "    i = 1 \n",
    "    check = 1 \n",
    "    while i <= int(len(n) / 2) :\n",
    "        if str(num)[i - 1] != str(num)[-i] :\n",
    "            check = 0\n",
    "            break\n",
    "        i += 1\n",
    "    if check == 0 :\n",
    "        print(\"Normal Number\")\n",
    "    else :\n",
    "        print(\"Palindrome Number\")"
   ]
  },
  {
   "cell_type": "markdown",
   "id": "661572ab",
   "metadata": {},
   "source": [
    "# 96"
   ]
  },
  {
   "cell_type": "code",
   "execution_count": 512,
   "id": "dff807e3",
   "metadata": {},
   "outputs": [
    {
     "name": "stdout",
     "output_type": "stream",
     "text": [
      "2 3 5 7 11 \n",
      "13 17 19 23 29 \n",
      "31 37 41 43 47 \n",
      "53 59 61 67 71 \n",
      "73 79 83 89 97 \n"
     ]
    }
   ],
   "source": [
    "l = []\n",
    "for i in range(1, 100):\n",
    "    n = 0\n",
    "    for j in range(2, 100):\n",
    "        if i % j == 0:\n",
    "            n += 1\n",
    "    if n == 1 :\n",
    "        l.append(i)\n",
    "        \n",
    "a = 4 \n",
    "for i in range(len(l)) :\n",
    "    print(l[i], end = \" \")\n",
    "    if i == a :\n",
    "        print()\n",
    "        a += 5\n"
   ]
  },
  {
   "cell_type": "markdown",
   "id": "5030a1ad",
   "metadata": {},
   "source": [
    "# 97"
   ]
  },
  {
   "cell_type": "code",
   "execution_count": 243,
   "id": "8e30ca8a",
   "metadata": {},
   "outputs": [
    {
     "name": "stdout",
     "output_type": "stream",
     "text": [
      "2 4 6 8 10 12 14 \n",
      "56\n"
     ]
    }
   ],
   "source": [
    "s = 0\n",
    "for i in range(1, 100) :\n",
    "    if i % 2 == 0 :\n",
    "        s = s + i\n",
    "        print(i, end =' ')\n",
    "        if s > 50 :\n",
    "            print()\n",
    "            break\n",
    "\n",
    "print(s)"
   ]
  },
  {
   "cell_type": "markdown",
   "id": "f3627f86",
   "metadata": {},
   "source": [
    "# 98"
   ]
  },
  {
   "cell_type": "code",
   "execution_count": 91,
   "id": "70e035f6",
   "metadata": {},
   "outputs": [
    {
     "name": "stdout",
     "output_type": "stream",
     "text": [
      "1 2\n",
      "2 3\n",
      "3 4\n",
      "4 5\n",
      "0 0\n",
      "9\n"
     ]
    }
   ],
   "source": [
    "l = []\n",
    "\n",
    "while True :\n",
    "    a, b = input().split()\n",
    "    a, b = int(a), int(b)\n",
    "    \n",
    "    if a != 0 and b != 0 :\n",
    "        s = a + b\n",
    "        l.append(s)\n",
    "    else :\n",
    "        break\n",
    "print(max(l))"
   ]
  },
  {
   "cell_type": "markdown",
   "id": "ccd9a577",
   "metadata": {},
   "source": [
    "# 99"
   ]
  },
  {
   "cell_type": "code",
   "execution_count": 518,
   "id": "cf96d096",
   "metadata": {
    "scrolled": false
   },
   "outputs": [
    {
     "name": "stdout",
     "output_type": "stream",
     "text": [
      "1 5 7 11 13 17 19 23 25 29 \n",
      "31 35 37 41 43 47 49 53 55 59 \n",
      "61 65 67 71 73 77 79 83 85 89 \n",
      "91 95 97 "
     ]
    }
   ],
   "source": [
    "l = []\n",
    "for i in range(1, 100) :\n",
    "    if i % 2 != 0 and i % 3 != 0:  \n",
    "        l.append(i)\n",
    "\n",
    "a = 9 \n",
    "for i in range(len(l)) :\n",
    "    print(l[i], end = \" \")\n",
    "    if i == a :\n",
    "        print()\n",
    "        a += 10\n",
    "\n"
   ]
  },
  {
   "cell_type": "markdown",
   "id": "f25dba3c",
   "metadata": {},
   "source": [
    "# 100"
   ]
  },
  {
   "cell_type": "code",
   "execution_count": 156,
   "id": "93ee88d1",
   "metadata": {},
   "outputs": [
    {
     "name": "stdout",
     "output_type": "stream",
     "text": [
      "0 0\n"
     ]
    }
   ],
   "source": [
    "\n",
    "# while True :\n",
    "#     d1, d2 = input().split()\n",
    "#     d1, d2 = int(d1), int(d2) \n",
    "#     sum_d1_d2 = d1 + d2\n",
    "    \n",
    "#     if d1 > 0 and  d1 < 10 or d2 > 0 and d2 < 10 :\n",
    "#             continue\n",
    "            \n",
    "#     elif d1 == 0 and d2 == 0 :\n",
    "#         if sum_d1_d2 > 8 :\n",
    "#             print(len())\n",
    "    \n",
    "# #     elif d1 == 0 and d2 == 0 :\n",
    "# #         break\n"
   ]
  },
  {
   "cell_type": "markdown",
   "id": "4f629f0b",
   "metadata": {},
   "source": [
    "# 101"
   ]
  },
  {
   "cell_type": "code",
   "execution_count": 71,
   "id": "04cceac1",
   "metadata": {},
   "outputs": [
    {
     "name": "stdout",
     "output_type": "stream",
     "text": [
      "70\n"
     ]
    }
   ],
   "source": [
    "l = [4, 7, 6, 8, 11, -3, 8, 11, 5, 13]\n",
    "print(sum(l))"
   ]
  },
  {
   "cell_type": "markdown",
   "id": "cb2e683e",
   "metadata": {},
   "source": [
    "# 102"
   ]
  },
  {
   "cell_type": "code",
   "execution_count": 72,
   "id": "a7da8d78",
   "metadata": {},
   "outputs": [
    {
     "name": "stdout",
     "output_type": "stream",
     "text": [
      "20\n"
     ]
    }
   ],
   "source": [
    "l1 = [5, 7, 13, 11, 6, 10, 45, 11, 4, 9]\n",
    "l2 = []\n",
    "for i in l1:\n",
    "    if i % 2 == 0:\n",
    "        l2.append(i)\n",
    "print(sum(l2))"
   ]
  },
  {
   "cell_type": "markdown",
   "id": "837f6947",
   "metadata": {},
   "source": [
    "# 103"
   ]
  },
  {
   "cell_type": "code",
   "execution_count": 295,
   "id": "85da4282",
   "metadata": {},
   "outputs": [
    {
     "name": "stdout",
     "output_type": "stream",
     "text": [
      "5 1 2 2 2 7\n",
      "-4\n"
     ]
    }
   ],
   "source": [
    "# i1, i2, i3, i4, i5, i6 = input().split()\n",
    "# i1, i2, i3, i4, i5, i6 = int(i1),int(i2),int(i3), int(i4), int(i5), int(i6)\n",
    "# c = 0\n",
    "\n",
    "# if i1 < 1 :\n",
    "#     c += 1\n",
    "#     print(c)\n",
    "# elif i1 > 1 :\n",
    "#     i1 - \n",
    "    \n"
   ]
  },
  {
   "cell_type": "markdown",
   "id": "da7e5b1e",
   "metadata": {},
   "source": [
    "# 104"
   ]
  },
  {
   "cell_type": "code",
   "execution_count": 528,
   "id": "24aac15e",
   "metadata": {},
   "outputs": [
    {
     "name": "stdout",
     "output_type": "stream",
     "text": [
      "123 234 345\n",
      "1\n",
      "0\n",
      "1\n",
      "0\n",
      "0\n",
      "0\n",
      "0\n",
      "1\n",
      "0\n",
      "4\n"
     ]
    }
   ],
   "source": [
    "a, b, c = input().split()\n",
    "a, b, c = int(a), int(b), int(c) \n",
    "\n",
    "m = a * b * c \n",
    "r = str(m)\n",
    "l = []\n",
    "for i in range(len(r)) :\n",
    "    l.append(int(r[i]))\n",
    "for i in range(10) :\n",
    "    print(l.count(i))"
   ]
  },
  {
   "cell_type": "markdown",
   "id": "1f0a21cf",
   "metadata": {},
   "source": [
    "# 105"
   ]
  },
  {
   "cell_type": "code",
   "execution_count": 318,
   "id": "63fbc758",
   "metadata": {},
   "outputs": [
    {
     "name": "stdout",
     "output_type": "stream",
     "text": [
      "2500\n"
     ]
    }
   ],
   "source": [
    "tup = tuple(range(1, 100, 2))\n",
    "sum_tup = sum(tup)\n",
    "print(sum_tup)"
   ]
  },
  {
   "cell_type": "markdown",
   "id": "76669ec0",
   "metadata": {},
   "source": [
    "# 106"
   ]
  },
  {
   "cell_type": "code",
   "execution_count": 351,
   "id": "c0c97a43",
   "metadata": {},
   "outputs": [
    {
     "name": "stdout",
     "output_type": "stream",
     "text": [
      "[2, 3, 4, 5, 6, 7, 8, 9, 10, 1]\n"
     ]
    }
   ],
   "source": [
    "l = [1, 2, 3, 4, 5, 6, 7, 8, 9, 10]\n",
    "\n",
    "for i in range(0, len(l) - 1, 1) :\n",
    "    l[i - 1], l[i] = l[i], l[i - 1]\n",
    "print(l)"
   ]
  },
  {
   "cell_type": "markdown",
   "id": "fc08fe2f",
   "metadata": {},
   "source": [
    "# 107"
   ]
  },
  {
   "cell_type": "code",
   "execution_count": 120,
   "id": "753bbf7c",
   "metadata": {},
   "outputs": [
    {
     "name": "stdout",
     "output_type": "stream",
     "text": [
      "[10, 1, 2, 3, 4, 5, 6, 7, 8, 9]\n"
     ]
    }
   ],
   "source": [
    "l = [1, 2, 3, 4, 5, 6, 7, 8, 9, 10]\n",
    "\n",
    "for i in range(len(l) - 1, 0, -1) :\n",
    "    l[i], l[i - 1] = l[i - 1], l[i]\n",
    "print(l)"
   ]
  },
  {
   "cell_type": "markdown",
   "id": "054c0d25",
   "metadata": {},
   "source": [
    "# 108"
   ]
  },
  {
   "cell_type": "code",
   "execution_count": 356,
   "id": "eaf506a7",
   "metadata": {},
   "outputs": [
    {
     "name": "stdout",
     "output_type": "stream",
     "text": [
      "20211224\n"
     ]
    },
    {
     "ename": "ValueError",
     "evalue": "not enough values to unpack (expected 3, got 1)",
     "output_type": "error",
     "traceback": [
      "\u001b[0;31m---------------------------------------------------------------------------\u001b[0m",
      "\u001b[0;31mValueError\u001b[0m                                Traceback (most recent call last)",
      "Cell \u001b[0;32mIn[356], line 1\u001b[0m\n\u001b[0;32m----> 1\u001b[0m y, m, d \u001b[38;5;241m=\u001b[39m \u001b[38;5;28minput\u001b[39m()\u001b[38;5;241m.\u001b[39msplit()\n",
      "\u001b[0;31mValueError\u001b[0m: not enough values to unpack (expected 3, got 1)"
     ]
    }
   ],
   "source": [
    "y, m, d = input().split()"
   ]
  },
  {
   "cell_type": "markdown",
   "id": "4b0d5535",
   "metadata": {},
   "source": [
    "# 109"
   ]
  },
  {
   "cell_type": "code",
   "execution_count": 77,
   "id": "fbb525c9",
   "metadata": {},
   "outputs": [
    {
     "name": "stdout",
     "output_type": "stream",
     "text": [
      "4 2\n",
      "0 0\n",
      "0\n"
     ]
    }
   ],
   "source": [
    "n, k = input().split()\n",
    "p = input().split()\n",
    "n, k = int(n), int(k)\n",
    "p = list(p)\n",
    "l = []\n",
    "if k < n and n in range(1, 50): \n",
    "    for i in range(len(p)):\n",
    "        p[i] = int(p[i])\n",
    "        if p[i] > 0 and p[i] >= k:\n",
    "            l.append(i)\n",
    "    print(len(l))\n"
   ]
  },
  {
   "cell_type": "markdown",
   "id": "da3f8836",
   "metadata": {},
   "source": [
    "# 110"
   ]
  },
  {
   "cell_type": "code",
   "execution_count": 409,
   "id": "1f677bf0",
   "metadata": {},
   "outputs": [
    {
     "name": "stdout",
     "output_type": "stream",
     "text": [
      "10\n",
      "3\n",
      "4\n",
      "6\n",
      "2\n",
      "28\n"
     ]
    }
   ],
   "source": [
    "x = int(input())\n",
    "n = int(input())\n",
    "\n",
    "l = []\n",
    "\n",
    "for i in range(1, n + 1) :\n",
    "    a = int(input())\n",
    "    l.append(a)\n",
    "    \n",
    "b = 0 \n",
    "for i in l :\n",
    "    b += x - i\n",
    "    result = (x + b)\n",
    "print(result)"
   ]
  },
  {
   "cell_type": "markdown",
   "id": "bbe84a36",
   "metadata": {},
   "source": [
    "# 111"
   ]
  },
  {
   "cell_type": "code",
   "execution_count": 5,
   "id": "da4df274",
   "metadata": {},
   "outputs": [
    {
     "name": "stdout",
     "output_type": "stream",
     "text": [
      "6\n",
      "5 2 4 1 7 5\n",
      "5\n"
     ]
    }
   ],
   "source": []
  },
  {
   "cell_type": "markdown",
   "id": "7e170400",
   "metadata": {},
   "source": [
    "# 112"
   ]
  },
  {
   "cell_type": "code",
   "execution_count": 6,
   "id": "8292d996",
   "metadata": {},
   "outputs": [
    {
     "name": "stdout",
     "output_type": "stream",
     "text": [
      "5\n",
      "1 3 3 4 5\n",
      "1 5 3 7 9 "
     ]
    }
   ],
   "source": []
  },
  {
   "cell_type": "markdown",
   "id": "bc4cd327",
   "metadata": {},
   "source": [
    "# 113"
   ]
  },
  {
   "cell_type": "code",
   "execution_count": 7,
   "id": "c1671a92",
   "metadata": {},
   "outputs": [
    {
     "name": "stdout",
     "output_type": "stream",
     "text": [
      "1 4 3 2 9 7 18 22 0\n",
      "3\n"
     ]
    }
   ],
   "source": []
  },
  {
   "cell_type": "markdown",
   "id": "d0cc2e2d",
   "metadata": {},
   "source": [
    "# 114"
   ]
  },
  {
   "cell_type": "code",
   "execution_count": 78,
   "id": "6d6960c1",
   "metadata": {},
   "outputs": [
    {
     "name": "stdout",
     "output_type": "stream",
     "text": [
      "24 2\n",
      "1 1\n",
      "1 2\n",
      "2 1\n",
      "2 2\n",
      "3 1\n",
      "3 2\n",
      "4 1\n",
      "4 2\n",
      "6 1\n",
      "6 2\n",
      "8 1\n",
      "8 2\n",
      "12 1\n",
      "12 2\n",
      "24 1\n",
      "24 2\n"
     ]
    }
   ],
   "source": [
    "p, q = input().split()\n",
    "p, q = int(p), int(q)\n",
    "p1 = []\n",
    "q1 = []\n",
    "for i in range(1, p+1):\n",
    "    if p % i == 0:\n",
    "        p1.append(i)\n",
    "for j in range(1, q+1):\n",
    "    if q % j == 0:\n",
    "        q1.append(j)\n",
    "for i in range(len(p1)):\n",
    "    p1[i] = int(p1[i])\n",
    "for i in range(len(q1)):\n",
    "    q1[i] = int(q1[i])\n",
    "for i in p1:\n",
    "    for j in q1:\n",
    "        print(i,j)"
   ]
  },
  {
   "cell_type": "markdown",
   "id": "f84decb2",
   "metadata": {},
   "source": [
    "# 115"
   ]
  },
  {
   "cell_type": "code",
   "execution_count": 9,
   "id": "fec3d2bc",
   "metadata": {},
   "outputs": [
    {
     "name": "stdout",
     "output_type": "stream",
     "text": [
      "123 45\n",
      "54\n"
     ]
    }
   ],
   "source": []
  },
  {
   "cell_type": "markdown",
   "id": "07e45c11",
   "metadata": {},
   "source": [
    "# 116"
   ]
  },
  {
   "cell_type": "code",
   "execution_count": 10,
   "id": "5674ae51",
   "metadata": {},
   "outputs": [
    {
     "name": "stdout",
     "output_type": "stream",
     "text": [
      "77\n",
      "-99\n",
      "98\n"
     ]
    }
   ],
   "source": []
  },
  {
   "cell_type": "markdown",
   "id": "2b082f78",
   "metadata": {},
   "source": [
    "# 117"
   ]
  },
  {
   "cell_type": "code",
   "execution_count": 296,
   "id": "cf7647d9",
   "metadata": {},
   "outputs": [
    {
     "name": "stdout",
     "output_type": "stream",
     "text": [
      "10\n",
      "20\n",
      "30\n",
      "40\n",
      "50\n",
      "60\n",
      "70\n",
      "80\n",
      "90\n",
      "90\n",
      "9\n"
     ]
    }
   ],
   "source": [
    "l = []\n",
    "i = 1\n",
    "while i < 10 :\n",
    "    n = int(input())\n",
    "    l.append(n)\n",
    "    i += 1\n",
    "a = max(l)\n",
    "for i in range(len(l)) :\n",
    "    if l[i] == a :\n",
    "        m = i + 1\n",
    "print(a)\n",
    "print(m)"
   ]
  },
  {
   "cell_type": "markdown",
   "id": "b9ba696b",
   "metadata": {},
   "source": [
    "# 118"
   ]
  },
  {
   "cell_type": "code",
   "execution_count": 314,
   "id": "a85c5dcf",
   "metadata": {},
   "outputs": [
    {
     "name": "stdout",
     "output_type": "stream",
     "text": [
      "4 4 3 3\n",
      "5 4 3 5\n",
      "5 5 2 4\n",
      "5 5 5 1\n",
      "4 4 4 4\n",
      "2 17\n"
     ]
    }
   ],
   "source": [
    "c1 = input().split()\n",
    "c1 = list(c1)\n",
    "for i in range(len(c1)) :\n",
    "    c1[i] = int(c1[i])\n",
    "    \n",
    "\n",
    "c2 = input().split()\n",
    "c2 = list(c2)\n",
    "for i in range(len(c2)) :\n",
    "    c2[i] = int(c2[i])\n",
    "    \n",
    "\n",
    "c3 = input().split()\n",
    "c3 = list(c3)\n",
    "for i in range(len(c3)) :\n",
    "    c3[i] = int(c3[i])\n",
    "    \n",
    "\n",
    "c4 = input().split()\n",
    "c4 = list(c4)\n",
    "for i in range(len(c4)) :\n",
    "    c4[i] = int(c4[i])\n",
    "    \n",
    "\n",
    "c5 = input().split()\n",
    "c5 = list(c5)\n",
    "for i in range(len(c5)) :\n",
    "    c5[i] = int(c5[i])\n",
    "    \n",
    "    \n",
    "l= []\n",
    "\n",
    "l.append(sum(c1))\n",
    "l.append(sum(c2))\n",
    "l.append(sum(c3))\n",
    "l.append(sum(c4))\n",
    "l.append(sum(c5))\n",
    "\n",
    "\n",
    "for i in range(len(l)) :\n",
    "    if l[i] == max(l) :\n",
    "        r = i + 1\n",
    "print(r, max(l))"
   ]
  },
  {
   "cell_type": "markdown",
   "id": "709d72d9",
   "metadata": {},
   "source": [
    "# 119"
   ]
  },
  {
   "cell_type": "code",
   "execution_count": 529,
   "id": "2862801e",
   "metadata": {},
   "outputs": [
    {
     "name": "stdout",
     "output_type": "stream",
     "text": [
      "5\n",
      "512\n",
      "532\n",
      "532\n",
      "585\n",
      "599\n",
      "532\n"
     ]
    }
   ],
   "source": [
    "n = int(input())\n",
    "i = 1 \n",
    "l = []\n",
    "\n",
    "while i < n + 1 :\n",
    "    num = int(input())\n",
    "    l.append(num)\n",
    "    i += 1\n",
    "    \n",
    "for i in range(1, len(l)) :\n",
    "    if l.count(l[i - 1]) > l.count(l[i]):\n",
    "        print(l[i - 1])"
   ]
  },
  {
   "cell_type": "markdown",
   "id": "958804b1",
   "metadata": {},
   "source": [
    "# 120"
   ]
  },
  {
   "cell_type": "code",
   "execution_count": 14,
   "id": "d0a11526",
   "metadata": {},
   "outputs": [
    {
     "name": "stdout",
     "output_type": "stream",
     "text": [
      "3\n",
      "3\n",
      "2 -1 1\n",
      "9\n"
     ]
    }
   ],
   "source": []
  },
  {
   "cell_type": "markdown",
   "id": "16509d22",
   "metadata": {},
   "source": [
    "# 121"
   ]
  },
  {
   "cell_type": "code",
   "execution_count": 15,
   "id": "6df311ae",
   "metadata": {},
   "outputs": [
    {
     "name": "stdout",
     "output_type": "stream",
     "text": [
      "3 2 3\n",
      "5\n"
     ]
    }
   ],
   "source": []
  },
  {
   "cell_type": "markdown",
   "id": "c0b29afa",
   "metadata": {},
   "source": [
    "# 122"
   ]
  },
  {
   "cell_type": "code",
   "execution_count": 16,
   "id": "427706e2",
   "metadata": {},
   "outputs": [
    {
     "name": "stdout",
     "output_type": "stream",
     "text": [
      "100\n",
      "3\n",
      "5 75 25\n",
      "2 3\n"
     ]
    }
   ],
   "source": []
  },
  {
   "cell_type": "markdown",
   "id": "74997182",
   "metadata": {},
   "source": [
    "# 123"
   ]
  },
  {
   "cell_type": "code",
   "execution_count": 362,
   "id": "68d17ae9",
   "metadata": {},
   "outputs": [
    {
     "name": "stdout",
     "output_type": "stream",
     "text": [
      "2\n",
      "60 1\n",
      "30 5\n",
      "180\n"
     ]
    }
   ],
   "source": [
    "n = int(input())\n",
    "i = 0 \n",
    "speed = []\n",
    "time1 = []\n",
    "time2 = []\n",
    "d = []\n",
    "\n",
    "while i < n :\n",
    "    s, t = input().split()\n",
    "    s, t = int(s), int(t)\n",
    "    speed.append(s)\n",
    "    time1.append(t)\n",
    "    i += 1\n",
    "    \n",
    "for i in range(1, len(time1)) :\n",
    "    time2.append(time1[i] - time1[i - 1])\n",
    "for i in range(1, len(speed)) :\n",
    "    d.append(speed[i] * time2[i - 1])\n",
    "    \n",
    "print((speed[0] * time1[0] + sum(d)))\n",
    "    "
   ]
  },
  {
   "cell_type": "markdown",
   "id": "3f4f815b",
   "metadata": {},
   "source": [
    "# 124"
   ]
  },
  {
   "cell_type": "code",
   "execution_count": 80,
   "id": "07778bb5",
   "metadata": {
    "scrolled": false
   },
   "outputs": [
    {
     "name": "stdout",
     "output_type": "stream",
     "text": [
      "3\n",
      "1\n",
      "4\n",
      "5\n",
      "6\n",
      "7\n",
      "9\n",
      "10\n",
      "11\n",
      "12\n",
      "13\n",
      "14\n",
      "15\n",
      "16\n",
      "17\n",
      "18\n",
      "19\n",
      "20\n",
      "21\n",
      "22\n",
      "23\n",
      "24\n",
      "25\n",
      "26\n",
      "27\n",
      "28\n",
      "29\n",
      "30\n",
      "2\n",
      "8\n"
     ]
    }
   ],
   "source": [
    "l1 = []\n",
    "i = 1\n",
    "while i < 29 :\n",
    "    n = int(input())\n",
    "    l1.append(n)\n",
    "    i = i + 1 \n",
    "for i in range(1, 31) :\n",
    "    if i not in l1 :\n",
    "        print(i)"
   ]
  },
  {
   "cell_type": "markdown",
   "id": "7ccf6ae2",
   "metadata": {},
   "source": [
    "# 125"
   ]
  },
  {
   "cell_type": "code",
   "execution_count": 369,
   "id": "761922bc",
   "metadata": {},
   "outputs": [
    {
     "name": "stdout",
     "output_type": "stream",
     "text": [
      "0\n",
      "1\n",
      "2\n",
      "3\n",
      "4\n",
      "5\n",
      "6\n",
      "7\n",
      "8\n",
      "9\n",
      "10\n"
     ]
    }
   ],
   "source": [
    "i = 0 \n",
    "l = []\n",
    "count = 1\n",
    "while i  < 10:\n",
    "    n = int(input())\n",
    "    c = n % 42 \n",
    "    l.append(c)\n",
    "    i += 1\n",
    "l.sort()\n",
    "\n",
    "for i in range(1, len(l)) :\n",
    "    count += 1\n",
    "print(count)"
   ]
  },
  {
   "cell_type": "markdown",
   "id": "187ef710",
   "metadata": {},
   "source": [
    "# 126"
   ]
  },
  {
   "cell_type": "code",
   "execution_count": 403,
   "id": "b087c2a3",
   "metadata": {},
   "outputs": [
    {
     "name": "stdout",
     "output_type": "stream",
     "text": [
      "30 3\n",
      "1 3\n",
      "3 7\n",
      "1 4\n",
      "13\n"
     ]
    }
   ],
   "source": [
    "s, n = input().split()\n",
    "s, n = int(s), int(n)\n",
    "\n",
    "k = 0\n",
    "l1= []\n",
    "l2 = []\n",
    "\n",
    "while k < n :\n",
    "    n1, n2 = input().split()\n",
    "    n1, n2 = int(n1), int(n2)\n",
    "    l1.append(n1)\n",
    "    l1.append(n2)\n",
    "    k += 1\n",
    "\n",
    "a = 1\n",
    "b = 1\n",
    "\n",
    "while b < len(l1) // 2 :\n",
    "    for i in range(1, s, l1[a]) :\n",
    "        l2.append(i)\n",
    "        \n",
    "    a+=2 \n",
    "    b += 1\n",
    "\n",
    "sub = 0\n",
    "for i in range(len(l2)) :\n",
    "    if l2.count(l2[i]) >= 2 :\n",
    "        sub += 1\n",
    "        \n",
    "if sub % 2 == 0 :\n",
    "    sub = sub // 2 \n",
    "else :\n",
    "    sub = sub // 2 + 1\n",
    "    \n",
    "print(s - len(l2) - sub )"
   ]
  },
  {
   "cell_type": "markdown",
   "id": "6b78fd03",
   "metadata": {},
   "source": [
    "# 127"
   ]
  },
  {
   "cell_type": "code",
   "execution_count": 21,
   "id": "9e9eac0e",
   "metadata": {},
   "outputs": [
    {
     "name": "stdout",
     "output_type": "stream",
     "text": [
      "4 5\n",
      "0 1 2\n",
      "0 2 4\n",
      "1 2 3\n",
      "1\n",
      "0 2 4\n",
      "1 1 4\n",
      "2\n"
     ]
    }
   ],
   "source": []
  },
  {
   "cell_type": "markdown",
   "id": "66316569",
   "metadata": {},
   "source": [
    "# 128"
   ]
  },
  {
   "cell_type": "code",
   "execution_count": 81,
   "id": "b50355ed",
   "metadata": {},
   "outputs": [
    {
     "name": "stdout",
     "output_type": "stream",
     "text": [
      "13\n",
      "2\n",
      "10\n",
      "1\n",
      "2\n",
      "1\n"
     ]
    }
   ],
   "source": [
    "n = int(input())\n",
    "m = int(input())\n",
    "k = int(input())\n",
    "check = [0] * (n + 1)\n",
    "\n",
    "for x in range(m) :\n",
    "    x = int(input())\n",
    "    for j in range(x - k, x + k + 1) :\n",
    "        if 1 <= j <= n :\n",
    "            check[j] = 1\n",
    "            \n",
    "count = 0\n",
    "for i in range(1, n + 1) :\n",
    "    if check[i] == 0 :\n",
    "        count += 1\n",
    "        for j in range(i, min(i + k * 2, n) + 1) : \n",
    "            check[j] = 1\n",
    "print(count)"
   ]
  },
  {
   "cell_type": "markdown",
   "id": "91369459",
   "metadata": {},
   "source": [
    "# 129"
   ]
  },
  {
   "cell_type": "code",
   "execution_count": 23,
   "id": "a42ec326",
   "metadata": {},
   "outputs": [
    {
     "name": "stdout",
     "output_type": "stream",
     "text": [
      "5 2\n",
      "1 2\n",
      "4 5\n",
      "2\n"
     ]
    }
   ],
   "source": []
  },
  {
   "cell_type": "markdown",
   "id": "af2b1528",
   "metadata": {},
   "source": [
    "# 130"
   ]
  },
  {
   "cell_type": "code",
   "execution_count": 455,
   "id": "e9c1b63e",
   "metadata": {},
   "outputs": [
    {
     "name": "stdout",
     "output_type": "stream",
     "text": [
      "5 3 1\n",
      "1 6\n",
      "3 5\n",
      "2 8\n",
      "33\n"
     ]
    }
   ],
   "source": [
    "a, b, c = input().split()\n",
    "a, b, c = int(a), int(b), int(c)\n",
    "\n",
    "t1 = input().split()\n",
    "t2 = input().split()\n",
    "t3 = input().split()\n",
    "\n",
    "c1 = 0 \n",
    "c2 = 0\n",
    "c3 = 0\n",
    "t =[]\n",
    "\n",
    "for i in range(2) :\n",
    "    t1[i] = int(t1[i])\n",
    "    t2[i] = int(t2[i])\n",
    "    t3[i] = int(t3[i])\n",
    "    \n",
    "for i in range(t1[0], t1[1]) :\n",
    "    t.append(i)\n",
    "for j in range(t2[0], t2[1]) :\n",
    "    t.append(j)\n",
    "for k in range(t3[0], t3[1]) :\n",
    "    t.append(k)\n",
    "\n",
    "for i in range(len(t)) :\n",
    "    if t.count(t[i]) == 1 :\n",
    "        c1 += 1\n",
    "    elif t.count(t[i]) == 2 :\n",
    "        c2 += 1\n",
    "    else :\n",
    "        c3 += 1\n",
    "        \n",
    "print(c1 * a + c2 * b + c3 * c)"
   ]
  },
  {
   "cell_type": "markdown",
   "id": "ffa55afd",
   "metadata": {},
   "source": [
    "# 131"
   ]
  },
  {
   "cell_type": "code",
   "execution_count": 26,
   "id": "1f86d41f",
   "metadata": {},
   "outputs": [
    {
     "name": "stdout",
     "output_type": "stream",
     "text": [
      "3\n",
      "5 9\n",
      "1 10\n",
      "3 8\n",
      "350\n",
      "550\n",
      "330\n"
     ]
    }
   ],
   "source": []
  },
  {
   "cell_type": "markdown",
   "id": "99cb710d",
   "metadata": {},
   "source": [
    "# 132"
   ]
  },
  {
   "cell_type": "code",
   "execution_count": 27,
   "id": "ad4836ee",
   "metadata": {},
   "outputs": [
    {
     "name": "stdout",
     "output_type": "stream",
     "text": [
      "4 2\n",
      "5\n",
      "8\n",
      "12\n",
      "6\n",
      "1 3\n",
      "2 4\n",
      "25\n",
      "26\n"
     ]
    }
   ],
   "source": []
  },
  {
   "cell_type": "markdown",
   "id": "2894b775",
   "metadata": {},
   "source": [
    "# 133"
   ]
  },
  {
   "cell_type": "code",
   "execution_count": 28,
   "id": "bae15f2f",
   "metadata": {},
   "outputs": [
    {
     "name": "stdout",
     "output_type": "stream",
     "text": [
      "5 3\n",
      "2\n",
      "5\n",
      "-4\n",
      "10\n",
      "3\n",
      "11\n"
     ]
    }
   ],
   "source": []
  },
  {
   "cell_type": "markdown",
   "id": "a676fe09",
   "metadata": {},
   "source": [
    "# 134"
   ]
  },
  {
   "cell_type": "code",
   "execution_count": 420,
   "id": "6eca9836",
   "metadata": {},
   "outputs": [
    {
     "name": "stdout",
     "output_type": "stream",
     "text": [
      "4\n",
      "+\n",
      "5\n",
      "*\n",
      "9\n",
      "81\n"
     ]
    }
   ],
   "source": [
    "a =int(input())\n",
    "op1 = input()\n",
    "b = int(input())\n",
    "op2 = input() \n",
    "c = int(input())\n",
    "\n",
    "\n",
    "\n",
    "if op1 == '+' :\n",
    "    r1 = a + b\n",
    "elif op1 == \"-\" :\n",
    "    r1 = a - b \n",
    "elif op1 == '*' :\n",
    "    r1 = a * b\n",
    "elif op1 == \"/\" :\n",
    "    r1 = a // b\n",
    "if op2 == '+' :\n",
    "    r2 = r1 + c\n",
    "elif op2 == \"-\" :\n",
    "    r2 = r1 - c \n",
    "elif op2 == '*' :\n",
    "    r2 = r1 * c\n",
    "elif op2 == \"/\" :\n",
    "    r2 = r1 // c\n",
    "    \n",
    "print(r2)"
   ]
  },
  {
   "cell_type": "markdown",
   "id": "ad85236f",
   "metadata": {},
   "source": [
    "# 135"
   ]
  },
  {
   "cell_type": "code",
   "execution_count": 30,
   "id": "48b4a2d9",
   "metadata": {},
   "outputs": [
    {
     "name": "stdout",
     "output_type": "stream",
     "text": [
      "13 5 3 2 1\n",
      "u\n",
      "f\n",
      "u\n",
      "d\n",
      "f\n",
      "3\n"
     ]
    }
   ],
   "source": []
  },
  {
   "cell_type": "markdown",
   "id": "203d52fe",
   "metadata": {},
   "source": [
    "# 136"
   ]
  },
  {
   "cell_type": "code",
   "execution_count": 31,
   "id": "e464f94e",
   "metadata": {},
   "outputs": [
    {
     "name": "stdout",
     "output_type": "stream",
     "text": [
      "1 3 3 1 1 1 7 7 7 7\n",
      "7\n",
      "4\n"
     ]
    }
   ],
   "source": []
  },
  {
   "cell_type": "markdown",
   "id": "7b16dd5d",
   "metadata": {},
   "source": [
    "# 137"
   ]
  },
  {
   "cell_type": "code",
   "execution_count": 32,
   "id": "da988e85",
   "metadata": {},
   "outputs": [
    {
     "name": "stdout",
     "output_type": "stream",
     "text": [
      "6\n",
      "1 0 0 1 1 1\n",
      "2\n"
     ]
    }
   ],
   "source": []
  },
  {
   "cell_type": "markdown",
   "id": "0c5528c9",
   "metadata": {},
   "source": [
    "# 138"
   ]
  },
  {
   "cell_type": "code",
   "execution_count": 312,
   "id": "8e7c1fa4",
   "metadata": {},
   "outputs": [
    {
     "name": "stdout",
     "output_type": "stream",
     "text": [
      "1 2 3 4 5 6 7 8\n",
      "None\n"
     ]
    }
   ],
   "source": [
    "n1, n2, n3, n4, n5, n6, n7, n8 = input().split()\n",
    "n1, n2, n3, n4, n5, n6, n7, n8 = int(n1), int(n2), int(n3), int(n4), int(n5), int(n6), int(n7), int(n8)\n",
    "\n",
    "n_list = [n1, n2, n3, n4, n5, n6, n7, n8]\n",
    "n_sort = n_list.sort()\n",
    "\n",
    "print(n_sort)\n",
    "\n",
    "# if n_list == n_sort :\n",
    "#     print(\"ascending\")\n",
    "# else :\n",
    "#     print(\"mixed\")"
   ]
  },
  {
   "cell_type": "markdown",
   "id": "40a7d7ca",
   "metadata": {},
   "source": [
    "# 139"
   ]
  },
  {
   "cell_type": "code",
   "execution_count": 34,
   "id": "4f3b4145",
   "metadata": {},
   "outputs": [
    {
     "name": "stdout",
     "output_type": "stream",
     "text": [
      "6\n",
      "C\n",
      "C\n",
      "P\n",
      "C\n",
      "Z\n",
      "Z\n",
      "5\n"
     ]
    }
   ],
   "source": []
  },
  {
   "cell_type": "markdown",
   "id": "00d3e469",
   "metadata": {},
   "source": [
    "# 140"
   ]
  },
  {
   "cell_type": "code",
   "execution_count": 35,
   "id": "c1dab4ff",
   "metadata": {},
   "outputs": [
    {
     "name": "stdout",
     "output_type": "stream",
     "text": [
      "7\n",
      "0 0\n",
      "1 0\n",
      "1 1\n",
      "0 0\n",
      "0 0\n",
      "0 0\n",
      "0 1\n",
      "6\n"
     ]
    }
   ],
   "source": []
  }
 ],
 "metadata": {
  "kernelspec": {
   "display_name": "Python 3 (ipykernel)",
   "language": "python",
   "name": "python3"
  },
  "language_info": {
   "codemirror_mode": {
    "name": "ipython",
    "version": 3
   },
   "file_extension": ".py",
   "mimetype": "text/x-python",
   "name": "python",
   "nbconvert_exporter": "python",
   "pygments_lexer": "ipython3",
   "version": "3.10.9"
  }
 },
 "nbformat": 4,
 "nbformat_minor": 5
}
