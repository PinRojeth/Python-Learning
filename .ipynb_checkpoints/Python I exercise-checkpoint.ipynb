{
 "cells": [
  {
   "cell_type": "markdown",
   "id": "1646c188",
   "metadata": {},
   "source": [
    "# List"
   ]
  },
  {
   "cell_type": "code",
   "execution_count": 1,
   "id": "1a41fe0c",
   "metadata": {},
   "outputs": [
    {
     "name": "stdout",
     "output_type": "stream",
     "text": [
      "[10, 20, [300, 400, [5000, 6000, 7000], 500], 30, 40]\n"
     ]
    }
   ],
   "source": [
    "list1 = [10, 20, [300, 400, [5000, 6000], 500 ], 30, 40] \n",
    "\n",
    "list1[2][2].append(7000)\n",
    "print(list1)\n"
   ]
  },
  {
   "cell_type": "code",
   "execution_count": 2,
   "id": "90478fbc",
   "metadata": {},
   "outputs": [
    {
     "name": "stdout",
     "output_type": "stream",
     "text": [
      "[5, 15, 25, 50]\n"
     ]
    }
   ],
   "source": [
    "list1 = [5, 20, 15, 20, 25, 50, 20] \n",
    "\n",
    "while 20 in list1 :\n",
    "    list1.remove(20)\n",
    "print(list1)"
   ]
  },
  {
   "cell_type": "code",
   "execution_count": 3,
   "id": "0e832da0",
   "metadata": {},
   "outputs": [
    {
     "name": "stdout",
     "output_type": "stream",
     "text": [
      "[1, 2, 3, 5, 8, 13]\n"
     ]
    }
   ],
   "source": [
    "a = [1, 1, 2, 3, 5, 8, 13, 21, 34, 55, 89]\n",
    "b = [1, 2, 3, 4, 5, 6, 7, 8, 9, 10, 11, 12, 13] \n",
    "\n",
    "c = []\n",
    "\n",
    "for i in a :\n",
    "    if i in b :\n",
    "        if i not in c :\n",
    "            c.append(i)\n",
    "print(c)\n"
   ]
  },
  {
   "cell_type": "markdown",
   "id": "8dc28054",
   "metadata": {},
   "source": [
    "# 2-D List"
   ]
  },
  {
   "cell_type": "code",
   "execution_count": 4,
   "id": "0e285ee1",
   "metadata": {},
   "outputs": [
    {
     "name": "stdout",
     "output_type": "stream",
     "text": [
      "Enter a line >> 3\n",
      "  ----   ----   ---- \n",
      "\n",
      "|      |      |      |      \n",
      "\n",
      "  ----   ----   ---- \n",
      "\n",
      "|      |      |      |      \n",
      "\n",
      "  ----   ----   ---- \n",
      "\n",
      "|      |      |      |      \n",
      "\n",
      "  ----   ----   ---- \n"
     ]
    }
   ],
   "source": [
    "n = int(input(\"Enter a line >> \"))\n",
    "\n",
    "for i in range(n) :\n",
    "    print('  ---- ' * n)\n",
    "    print()\n",
    "    print('|      ' * (n + 1))\n",
    "    print()\n",
    "print('  ---- ' * n)\n"
   ]
  },
  {
   "cell_type": "code",
   "execution_count": 5,
   "id": "325f77f5",
   "metadata": {},
   "outputs": [
    {
     "name": "stdout",
     "output_type": "stream",
     "text": [
      "Player 1 has won\n"
     ]
    }
   ],
   "source": [
    "game = [\n",
    " [1, 2, 0],\n",
    " [2, 1, 0],\n",
    " [2, 1, 1]\n",
    "]\n",
    "\n",
    "\n",
    "if game[0][0] == game[0][1] and game[0][2] : \n",
    "    print(f\"Player {game[0][0]} has won\")\n",
    "elif game[1][0] == game[1][2] and game [1][2] :\n",
    "    print(f\"Player {game[1][0]} has won\")\n",
    "elif game[2][0] == game[2][1] and game[2][2]:\n",
    "    print(f\"Player {game[2][0]} has won\")\n",
    "elif game[0][0] == game[1][0] and game[2][0] :\n",
    "    print(f\"Plaer {game[0][0]} has won\")\n",
    "elif game[0][1] == game[1][1] and game[2][1] :\n",
    "    print(f\"Player {game[0][1]} has won\")\n",
    "elif game[0][0] == game[1][2] and game[2][2] :\n",
    "    print(f\"Player {[0][2]} has won\")\n",
    "elif game[0][0] == game[1][1] and game[2][2] :\n",
    "    print(f\"Player {game[0][0]} has won\")\n",
    "elif game[0][2] == game[1][1] and game[2][0] :\n",
    "    print(f\"Player {[0][2]} has won\")\n",
    "\n"
   ]
  },
  {
   "cell_type": "markdown",
   "id": "b20dbcbc",
   "metadata": {},
   "source": [
    "# Dictionary"
   ]
  },
  {
   "cell_type": "code",
   "execution_count": 7,
   "id": "62d45aae",
   "metadata": {},
   "outputs": [
    {
     "name": "stdout",
     "output_type": "stream",
     "text": [
      "{1: 10, 2: 20, 3: 30, 4: 40, 5: 50, 6: 60}\n"
     ]
    }
   ],
   "source": [
    "dic1={\n",
    "    1:10, \n",
    "    2:20\n",
    "}\n",
    "dic2={\n",
    "    3:30, \n",
    "    4:40\n",
    "}\n",
    "dic3={\n",
    "    5:50, \n",
    "    6:60\n",
    "}\n",
    "\n",
    "calc_dic = {}\n",
    "\n",
    "for i in dic1, dic2, dic3 :\n",
    "    calc_dic.update(i)\n",
    "\n",
    "print(calc_dic)\n",
    "\n"
   ]
  },
  {
   "cell_type": "code",
   "execution_count": 8,
   "id": "fadd82a2",
   "metadata": {},
   "outputs": [
    {
     "name": "stdout",
     "output_type": "stream",
     "text": [
      "{1: 1, 2: 4, 3: 9, 4: 16, 5: 25}\n"
     ]
    }
   ],
   "source": [
    "n = 5 \n",
    "dic = {}\n",
    "for i in range(1, n + 1) :\n",
    "    dic[i] = i * i\n",
    "print(dic)\n"
   ]
  },
  {
   "cell_type": "markdown",
   "id": "7cb37a1e",
   "metadata": {},
   "source": [
    "# 2-D Continue"
   ]
  },
  {
   "cell_type": "code",
   "execution_count": 10,
   "id": "b64da180",
   "metadata": {},
   "outputs": [
    {
     "name": "stdout",
     "output_type": "stream",
     "text": [
      "Enter a line >> 3\n",
      "[0, 0, 0]\n",
      "[0, 0, 0]\n",
      "[0, 0, 0]\n",
      "Player 1 Input >> 1 1\n",
      "X 0 0 \n",
      "0 0 0 \n",
      "0 0 0 \n",
      "Player 2 input >> 1 2\n",
      "X O 0 \n",
      "0 0 0 \n",
      "0 0 0 \n"
     ]
    }
   ],
   "source": [
    "n = int(input(\"Enter a line >> \"))\n",
    "\n",
    "arr = []\n",
    "for i in range(n) :\n",
    "    col = []\n",
    "    for j in range(n) :\n",
    "        col.append(0)\n",
    "    arr.append(col)\n",
    "\n",
    "for i in arr :\n",
    "    print(i)\n",
    "\n",
    "while True :\n",
    "    r1, c1 = input(\"Player 1 Input >> \").split()\n",
    "    r1, c1 = int(r1), int(c1)\n",
    "\n",
    "    arr[r1-1][c1 - 1] = \"X\"\n",
    "    for i in arr :\n",
    "        for j in i :\n",
    "            print(j, end=' ')\n",
    "        print()\n",
    "\n",
    "    r2, c2 = input(\"Player 2 input >> \").split()\n",
    "    r2, c2 = int(r2), int(c2)\n",
    "\n",
    "    arr[r2-1][c2 - 1] = \"O\"\n",
    "    for i in arr :\n",
    "        for j in i :\n",
    "            print(j, end=' ')\n",
    "        print()\n",
    "    break\n"
   ]
  },
  {
   "cell_type": "code",
   "execution_count": null,
   "id": "5aa2c913",
   "metadata": {},
   "outputs": [],
   "source": []
  }
 ],
 "metadata": {
  "kernelspec": {
   "display_name": "Python 3 (ipykernel)",
   "language": "python",
   "name": "python3"
  },
  "language_info": {
   "codemirror_mode": {
    "name": "ipython",
    "version": 3
   },
   "file_extension": ".py",
   "mimetype": "text/x-python",
   "name": "python",
   "nbconvert_exporter": "python",
   "pygments_lexer": "ipython3",
   "version": "3.10.9"
  }
 },
 "nbformat": 4,
 "nbformat_minor": 5
}
